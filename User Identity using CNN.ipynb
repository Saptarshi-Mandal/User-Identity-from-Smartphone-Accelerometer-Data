{
 "cells": [
  {
   "cell_type": "code",
   "execution_count": 1,
   "metadata": {},
   "outputs": [],
   "source": [
    "import pandas as pd\n",
    "import numpy as np\n",
    "import matplotlib.pyplot as plt\n",
    "import tensorflow\n",
    "from tensorflow import keras"
   ]
  },
  {
   "cell_type": "markdown",
   "metadata": {},
   "source": [
    "# Raw data"
   ]
  },
  {
   "cell_type": "code",
   "execution_count": 155,
   "metadata": {},
   "outputs": [],
   "source": [
    "N=5000\n",
    "no=5\n",
    "N_test = 15000"
   ]
  },
  {
   "cell_type": "code",
   "execution_count": 4,
   "metadata": {},
   "outputs": [
    {
     "data": {
      "text/html": [
       "<div>\n",
       "<style scoped>\n",
       "    .dataframe tbody tr th:only-of-type {\n",
       "        vertical-align: middle;\n",
       "    }\n",
       "\n",
       "    .dataframe tbody tr th {\n",
       "        vertical-align: top;\n",
       "    }\n",
       "\n",
       "    .dataframe thead th {\n",
       "        text-align: right;\n",
       "    }\n",
       "</style>\n",
       "<table border=\"1\" class=\"dataframe\">\n",
       "  <thead>\n",
       "    <tr style=\"text-align: right;\">\n",
       "      <th></th>\n",
       "      <th>ID</th>\n",
       "      <th>TIMESTAMP</th>\n",
       "      <th>X</th>\n",
       "      <th>Y</th>\n",
       "      <th>Z</th>\n",
       "    </tr>\n",
       "  </thead>\n",
       "  <tbody>\n",
       "    <tr>\n",
       "      <td>0</td>\n",
       "      <td>1.598620e+12</td>\n",
       "      <td>0</td>\n",
       "      <td>-1.648392</td>\n",
       "      <td>1.135391</td>\n",
       "      <td>9.789062</td>\n",
       "    </tr>\n",
       "    <tr>\n",
       "      <td>1</td>\n",
       "      <td>1.598620e+12</td>\n",
       "      <td>1</td>\n",
       "      <td>-1.703430</td>\n",
       "      <td>1.152145</td>\n",
       "      <td>10.018768</td>\n",
       "    </tr>\n",
       "    <tr>\n",
       "      <td>2</td>\n",
       "      <td>1.598620e+12</td>\n",
       "      <td>2</td>\n",
       "      <td>-1.380402</td>\n",
       "      <td>1.264603</td>\n",
       "      <td>9.743591</td>\n",
       "    </tr>\n",
       "    <tr>\n",
       "      <td>3</td>\n",
       "      <td>1.598620e+12</td>\n",
       "      <td>3</td>\n",
       "      <td>-1.279907</td>\n",
       "      <td>1.211960</td>\n",
       "      <td>9.707703</td>\n",
       "    </tr>\n",
       "    <tr>\n",
       "      <td>4</td>\n",
       "      <td>1.598620e+12</td>\n",
       "      <td>4</td>\n",
       "      <td>-1.447403</td>\n",
       "      <td>1.073181</td>\n",
       "      <td>9.863235</td>\n",
       "    </tr>\n",
       "    <tr>\n",
       "      <td>...</td>\n",
       "      <td>...</td>\n",
       "      <td>...</td>\n",
       "      <td>...</td>\n",
       "      <td>...</td>\n",
       "      <td>...</td>\n",
       "    </tr>\n",
       "    <tr>\n",
       "      <td>34752</td>\n",
       "      <td>1.598620e+12</td>\n",
       "      <td>34752</td>\n",
       "      <td>-1.054977</td>\n",
       "      <td>1.056427</td>\n",
       "      <td>7.468018</td>\n",
       "    </tr>\n",
       "    <tr>\n",
       "      <td>34753</td>\n",
       "      <td>1.598620e+12</td>\n",
       "      <td>34753</td>\n",
       "      <td>-1.617294</td>\n",
       "      <td>1.125824</td>\n",
       "      <td>7.941803</td>\n",
       "    </tr>\n",
       "    <tr>\n",
       "      <td>34754</td>\n",
       "      <td>1.598620e+12</td>\n",
       "      <td>34754</td>\n",
       "      <td>-1.686691</td>\n",
       "      <td>0.920029</td>\n",
       "      <td>9.104706</td>\n",
       "    </tr>\n",
       "    <tr>\n",
       "      <td>34755</td>\n",
       "      <td>1.598620e+12</td>\n",
       "      <td>34755</td>\n",
       "      <td>-1.322967</td>\n",
       "      <td>0.850647</td>\n",
       "      <td>10.779678</td>\n",
       "    </tr>\n",
       "    <tr>\n",
       "      <td>34756</td>\n",
       "      <td>1.598620e+12</td>\n",
       "      <td>34756</td>\n",
       "      <td>-1.995361</td>\n",
       "      <td>1.992020</td>\n",
       "      <td>9.564133</td>\n",
       "    </tr>\n",
       "  </tbody>\n",
       "</table>\n",
       "<p>34757 rows × 5 columns</p>\n",
       "</div>"
      ],
      "text/plain": [
       "                 ID  TIMESTAMP         X         Y          Z\n",
       "0      1.598620e+12          0 -1.648392  1.135391   9.789062\n",
       "1      1.598620e+12          1 -1.703430  1.152145  10.018768\n",
       "2      1.598620e+12          2 -1.380402  1.264603   9.743591\n",
       "3      1.598620e+12          3 -1.279907  1.211960   9.707703\n",
       "4      1.598620e+12          4 -1.447403  1.073181   9.863235\n",
       "...             ...        ...       ...       ...        ...\n",
       "34752  1.598620e+12      34752 -1.054977  1.056427   7.468018\n",
       "34753  1.598620e+12      34753 -1.617294  1.125824   7.941803\n",
       "34754  1.598620e+12      34754 -1.686691  0.920029   9.104706\n",
       "34755  1.598620e+12      34755 -1.322967  0.850647  10.779678\n",
       "34756  1.598620e+12      34756 -1.995361  1.992020   9.564133\n",
       "\n",
       "[34757 rows x 5 columns]"
      ]
     },
     "execution_count": 4,
     "metadata": {},
     "output_type": "execute_result"
    }
   ],
   "source": [
    "df_1 = pd.read_csv(\"E:\\Project\\Human Identity\\Data\\Accelerometer_User_1_34756.csv\")\n",
    "df_1"
   ]
  },
  {
   "cell_type": "code",
   "execution_count": 5,
   "metadata": {},
   "outputs": [],
   "source": [
    "df_1 = df_1.iloc[:N]"
   ]
  },
  {
   "cell_type": "code",
   "execution_count": 6,
   "metadata": {},
   "outputs": [
    {
     "data": {
      "text/html": [
       "<div>\n",
       "<style scoped>\n",
       "    .dataframe tbody tr th:only-of-type {\n",
       "        vertical-align: middle;\n",
       "    }\n",
       "\n",
       "    .dataframe tbody tr th {\n",
       "        vertical-align: top;\n",
       "    }\n",
       "\n",
       "    .dataframe thead th {\n",
       "        text-align: right;\n",
       "    }\n",
       "</style>\n",
       "<table border=\"1\" class=\"dataframe\">\n",
       "  <thead>\n",
       "    <tr style=\"text-align: right;\">\n",
       "      <th></th>\n",
       "      <th>ID</th>\n",
       "      <th>TIMESTAMP</th>\n",
       "      <th>X</th>\n",
       "      <th>Y</th>\n",
       "      <th>Z</th>\n",
       "    </tr>\n",
       "  </thead>\n",
       "  <tbody>\n",
       "    <tr>\n",
       "      <td>0</td>\n",
       "      <td>1.599400e+12</td>\n",
       "      <td>0</td>\n",
       "      <td>-2.959233</td>\n",
       "      <td>3.189077</td>\n",
       "      <td>7.848193</td>\n",
       "    </tr>\n",
       "    <tr>\n",
       "      <td>1</td>\n",
       "      <td>1.599400e+12</td>\n",
       "      <td>1</td>\n",
       "      <td>-1.857901</td>\n",
       "      <td>2.896984</td>\n",
       "      <td>7.513005</td>\n",
       "    </tr>\n",
       "    <tr>\n",
       "      <td>2</td>\n",
       "      <td>1.599400e+12</td>\n",
       "      <td>2</td>\n",
       "      <td>-1.857901</td>\n",
       "      <td>2.896984</td>\n",
       "      <td>7.513005</td>\n",
       "    </tr>\n",
       "    <tr>\n",
       "      <td>3</td>\n",
       "      <td>1.599400e+12</td>\n",
       "      <td>3</td>\n",
       "      <td>-2.815581</td>\n",
       "      <td>2.839523</td>\n",
       "      <td>7.963115</td>\n",
       "    </tr>\n",
       "    <tr>\n",
       "      <td>4</td>\n",
       "      <td>1.599400e+12</td>\n",
       "      <td>4</td>\n",
       "      <td>-2.815581</td>\n",
       "      <td>2.839523</td>\n",
       "      <td>7.963115</td>\n",
       "    </tr>\n",
       "    <tr>\n",
       "      <td>...</td>\n",
       "      <td>...</td>\n",
       "      <td>...</td>\n",
       "      <td>...</td>\n",
       "      <td>...</td>\n",
       "      <td>...</td>\n",
       "    </tr>\n",
       "    <tr>\n",
       "      <td>36384</td>\n",
       "      <td>1.599400e+12</td>\n",
       "      <td>36384</td>\n",
       "      <td>-3.098097</td>\n",
       "      <td>6.057330</td>\n",
       "      <td>7.287950</td>\n",
       "    </tr>\n",
       "    <tr>\n",
       "      <td>36385</td>\n",
       "      <td>1.599400e+12</td>\n",
       "      <td>36385</td>\n",
       "      <td>-2.308010</td>\n",
       "      <td>6.675034</td>\n",
       "      <td>8.599973</td>\n",
       "    </tr>\n",
       "    <tr>\n",
       "      <td>36386</td>\n",
       "      <td>1.599400e+12</td>\n",
       "      <td>36386</td>\n",
       "      <td>-2.308010</td>\n",
       "      <td>6.675034</td>\n",
       "      <td>8.599973</td>\n",
       "    </tr>\n",
       "    <tr>\n",
       "      <td>36387</td>\n",
       "      <td>1.599400e+12</td>\n",
       "      <td>36387</td>\n",
       "      <td>-0.521936</td>\n",
       "      <td>8.901642</td>\n",
       "      <td>8.384495</td>\n",
       "    </tr>\n",
       "    <tr>\n",
       "      <td>36388</td>\n",
       "      <td>1.599400e+12</td>\n",
       "      <td>36388</td>\n",
       "      <td>-0.521936</td>\n",
       "      <td>8.901642</td>\n",
       "      <td>8.384495</td>\n",
       "    </tr>\n",
       "  </tbody>\n",
       "</table>\n",
       "<p>36389 rows × 5 columns</p>\n",
       "</div>"
      ],
      "text/plain": [
       "                 ID  TIMESTAMP         X         Y         Z\n",
       "0      1.599400e+12          0 -2.959233  3.189077  7.848193\n",
       "1      1.599400e+12          1 -1.857901  2.896984  7.513005\n",
       "2      1.599400e+12          2 -1.857901  2.896984  7.513005\n",
       "3      1.599400e+12          3 -2.815581  2.839523  7.963115\n",
       "4      1.599400e+12          4 -2.815581  2.839523  7.963115\n",
       "...             ...        ...       ...       ...       ...\n",
       "36384  1.599400e+12      36384 -3.098097  6.057330  7.287950\n",
       "36385  1.599400e+12      36385 -2.308010  6.675034  8.599973\n",
       "36386  1.599400e+12      36386 -2.308010  6.675034  8.599973\n",
       "36387  1.599400e+12      36387 -0.521936  8.901642  8.384495\n",
       "36388  1.599400e+12      36388 -0.521936  8.901642  8.384495\n",
       "\n",
       "[36389 rows x 5 columns]"
      ]
     },
     "execution_count": 6,
     "metadata": {},
     "output_type": "execute_result"
    }
   ],
   "source": [
    "df_2 = pd.read_csv(\"E:\\Project\\Human Identity\\Data\\Accelerometer_User_2_36388.csv\")\n",
    "df_2"
   ]
  },
  {
   "cell_type": "code",
   "execution_count": 7,
   "metadata": {},
   "outputs": [],
   "source": [
    "df_2 = df_2.iloc[:N]"
   ]
  },
  {
   "cell_type": "code",
   "execution_count": 8,
   "metadata": {},
   "outputs": [
    {
     "data": {
      "text/html": [
       "<div>\n",
       "<style scoped>\n",
       "    .dataframe tbody tr th:only-of-type {\n",
       "        vertical-align: middle;\n",
       "    }\n",
       "\n",
       "    .dataframe tbody tr th {\n",
       "        vertical-align: top;\n",
       "    }\n",
       "\n",
       "    .dataframe thead th {\n",
       "        text-align: right;\n",
       "    }\n",
       "</style>\n",
       "<table border=\"1\" class=\"dataframe\">\n",
       "  <thead>\n",
       "    <tr style=\"text-align: right;\">\n",
       "      <th></th>\n",
       "      <th>ID</th>\n",
       "      <th>TIMESTAMP</th>\n",
       "      <th>X</th>\n",
       "      <th>Y</th>\n",
       "      <th>Z</th>\n",
       "    </tr>\n",
       "  </thead>\n",
       "  <tbody>\n",
       "    <tr>\n",
       "      <td>0</td>\n",
       "      <td>1.600000e+12</td>\n",
       "      <td>0</td>\n",
       "      <td>-0.162857</td>\n",
       "      <td>2.018478</td>\n",
       "      <td>10.619858</td>\n",
       "    </tr>\n",
       "    <tr>\n",
       "      <td>1</td>\n",
       "      <td>1.600000e+12</td>\n",
       "      <td>1</td>\n",
       "      <td>-0.210709</td>\n",
       "      <td>2.269730</td>\n",
       "      <td>8.897034</td>\n",
       "    </tr>\n",
       "    <tr>\n",
       "      <td>2</td>\n",
       "      <td>1.600000e+12</td>\n",
       "      <td>2</td>\n",
       "      <td>-0.064743</td>\n",
       "      <td>2.858368</td>\n",
       "      <td>8.533325</td>\n",
       "    </tr>\n",
       "    <tr>\n",
       "      <td>3</td>\n",
       "      <td>1.600000e+12</td>\n",
       "      <td>3</td>\n",
       "      <td>0.074036</td>\n",
       "      <td>3.013901</td>\n",
       "      <td>9.071701</td>\n",
       "    </tr>\n",
       "    <tr>\n",
       "      <td>4</td>\n",
       "      <td>1.600000e+12</td>\n",
       "      <td>4</td>\n",
       "      <td>-0.007324</td>\n",
       "      <td>2.939713</td>\n",
       "      <td>9.222443</td>\n",
       "    </tr>\n",
       "    <tr>\n",
       "      <td>...</td>\n",
       "      <td>...</td>\n",
       "      <td>...</td>\n",
       "      <td>...</td>\n",
       "      <td>...</td>\n",
       "      <td>...</td>\n",
       "    </tr>\n",
       "    <tr>\n",
       "      <td>85752</td>\n",
       "      <td>1.600000e+12</td>\n",
       "      <td>85752</td>\n",
       "      <td>0.633957</td>\n",
       "      <td>2.298447</td>\n",
       "      <td>7.628830</td>\n",
       "    </tr>\n",
       "    <tr>\n",
       "      <td>85753</td>\n",
       "      <td>1.600000e+12</td>\n",
       "      <td>85753</td>\n",
       "      <td>-2.596359</td>\n",
       "      <td>4.703232</td>\n",
       "      <td>7.533112</td>\n",
       "    </tr>\n",
       "    <tr>\n",
       "      <td>85754</td>\n",
       "      <td>1.600000e+12</td>\n",
       "      <td>85754</td>\n",
       "      <td>-0.780197</td>\n",
       "      <td>3.822678</td>\n",
       "      <td>9.681870</td>\n",
       "    </tr>\n",
       "    <tr>\n",
       "      <td>85755</td>\n",
       "      <td>1.600000e+12</td>\n",
       "      <td>85755</td>\n",
       "      <td>0.088394</td>\n",
       "      <td>3.320175</td>\n",
       "      <td>10.784958</td>\n",
       "    </tr>\n",
       "    <tr>\n",
       "      <td>85756</td>\n",
       "      <td>1.600000e+12</td>\n",
       "      <td>85756</td>\n",
       "      <td>1.007233</td>\n",
       "      <td>2.430054</td>\n",
       "      <td>9.813477</td>\n",
       "    </tr>\n",
       "  </tbody>\n",
       "</table>\n",
       "<p>85757 rows × 5 columns</p>\n",
       "</div>"
      ],
      "text/plain": [
       "                 ID  TIMESTAMP         X         Y          Z\n",
       "0      1.600000e+12          0 -0.162857  2.018478  10.619858\n",
       "1      1.600000e+12          1 -0.210709  2.269730   8.897034\n",
       "2      1.600000e+12          2 -0.064743  2.858368   8.533325\n",
       "3      1.600000e+12          3  0.074036  3.013901   9.071701\n",
       "4      1.600000e+12          4 -0.007324  2.939713   9.222443\n",
       "...             ...        ...       ...       ...        ...\n",
       "85752  1.600000e+12      85752  0.633957  2.298447   7.628830\n",
       "85753  1.600000e+12      85753 -2.596359  4.703232   7.533112\n",
       "85754  1.600000e+12      85754 -0.780197  3.822678   9.681870\n",
       "85755  1.600000e+12      85755  0.088394  3.320175  10.784958\n",
       "85756  1.600000e+12      85756  1.007233  2.430054   9.813477\n",
       "\n",
       "[85757 rows x 5 columns]"
      ]
     },
     "execution_count": 8,
     "metadata": {},
     "output_type": "execute_result"
    }
   ],
   "source": [
    "df_3 = pd.read_csv(\"E:\\Project\\Human Identity\\Data\\Accelerometer_User_3_85756.csv\")\n",
    "df_3"
   ]
  },
  {
   "cell_type": "code",
   "execution_count": 9,
   "metadata": {},
   "outputs": [],
   "source": [
    "df_3 = df_3.iloc[:N]"
   ]
  },
  {
   "cell_type": "code",
   "execution_count": 10,
   "metadata": {},
   "outputs": [
    {
     "data": {
      "text/html": [
       "<div>\n",
       "<style scoped>\n",
       "    .dataframe tbody tr th:only-of-type {\n",
       "        vertical-align: middle;\n",
       "    }\n",
       "\n",
       "    .dataframe tbody tr th {\n",
       "        vertical-align: top;\n",
       "    }\n",
       "\n",
       "    .dataframe thead th {\n",
       "        text-align: right;\n",
       "    }\n",
       "</style>\n",
       "<table border=\"1\" class=\"dataframe\">\n",
       "  <thead>\n",
       "    <tr style=\"text-align: right;\">\n",
       "      <th></th>\n",
       "      <th>ID</th>\n",
       "      <th>TIMESTAMP</th>\n",
       "      <th>X</th>\n",
       "      <th>Y</th>\n",
       "      <th>Z</th>\n",
       "    </tr>\n",
       "  </thead>\n",
       "  <tbody>\n",
       "    <tr>\n",
       "      <td>0</td>\n",
       "      <td>1.600260e+12</td>\n",
       "      <td>0</td>\n",
       "      <td>-1.674713</td>\n",
       "      <td>1.879562</td>\n",
       "      <td>9.676590</td>\n",
       "    </tr>\n",
       "    <tr>\n",
       "      <td>1</td>\n",
       "      <td>1.600260e+12</td>\n",
       "      <td>1</td>\n",
       "      <td>-1.988174</td>\n",
       "      <td>1.965698</td>\n",
       "      <td>9.573700</td>\n",
       "    </tr>\n",
       "    <tr>\n",
       "      <td>2</td>\n",
       "      <td>1.600260e+12</td>\n",
       "      <td>2</td>\n",
       "      <td>-1.595764</td>\n",
       "      <td>1.941772</td>\n",
       "      <td>9.829727</td>\n",
       "    </tr>\n",
       "    <tr>\n",
       "      <td>3</td>\n",
       "      <td>1.600260e+12</td>\n",
       "      <td>3</td>\n",
       "      <td>-1.346909</td>\n",
       "      <td>2.006378</td>\n",
       "      <td>10.126450</td>\n",
       "    </tr>\n",
       "    <tr>\n",
       "      <td>4</td>\n",
       "      <td>1.600260e+12</td>\n",
       "      <td>4</td>\n",
       "      <td>-1.468933</td>\n",
       "      <td>1.972885</td>\n",
       "      <td>9.987656</td>\n",
       "    </tr>\n",
       "    <tr>\n",
       "      <td>...</td>\n",
       "      <td>...</td>\n",
       "      <td>...</td>\n",
       "      <td>...</td>\n",
       "      <td>...</td>\n",
       "      <td>...</td>\n",
       "    </tr>\n",
       "    <tr>\n",
       "      <td>85853</td>\n",
       "      <td>1.600260e+12</td>\n",
       "      <td>85853</td>\n",
       "      <td>-0.507019</td>\n",
       "      <td>-10.766510</td>\n",
       "      <td>0.502518</td>\n",
       "    </tr>\n",
       "    <tr>\n",
       "      <td>85854</td>\n",
       "      <td>1.600260e+12</td>\n",
       "      <td>85854</td>\n",
       "      <td>-0.672134</td>\n",
       "      <td>-10.922043</td>\n",
       "      <td>0.294342</td>\n",
       "    </tr>\n",
       "    <tr>\n",
       "      <td>85855</td>\n",
       "      <td>1.600260e+12</td>\n",
       "      <td>85855</td>\n",
       "      <td>-1.043014</td>\n",
       "      <td>-10.534409</td>\n",
       "      <td>-0.014343</td>\n",
       "    </tr>\n",
       "    <tr>\n",
       "      <td>85856</td>\n",
       "      <td>1.600260e+12</td>\n",
       "      <td>85856</td>\n",
       "      <td>-1.169830</td>\n",
       "      <td>-10.441086</td>\n",
       "      <td>0.179474</td>\n",
       "    </tr>\n",
       "    <tr>\n",
       "      <td>85857</td>\n",
       "      <td>1.600260e+12</td>\n",
       "      <td>85857</td>\n",
       "      <td>-0.779800</td>\n",
       "      <td>-10.596619</td>\n",
       "      <td>0.045486</td>\n",
       "    </tr>\n",
       "  </tbody>\n",
       "</table>\n",
       "<p>85858 rows × 5 columns</p>\n",
       "</div>"
      ],
      "text/plain": [
       "                 ID  TIMESTAMP         X          Y          Z\n",
       "0      1.600260e+12          0 -1.674713   1.879562   9.676590\n",
       "1      1.600260e+12          1 -1.988174   1.965698   9.573700\n",
       "2      1.600260e+12          2 -1.595764   1.941772   9.829727\n",
       "3      1.600260e+12          3 -1.346909   2.006378  10.126450\n",
       "4      1.600260e+12          4 -1.468933   1.972885   9.987656\n",
       "...             ...        ...       ...        ...        ...\n",
       "85853  1.600260e+12      85853 -0.507019 -10.766510   0.502518\n",
       "85854  1.600260e+12      85854 -0.672134 -10.922043   0.294342\n",
       "85855  1.600260e+12      85855 -1.043014 -10.534409  -0.014343\n",
       "85856  1.600260e+12      85856 -1.169830 -10.441086   0.179474\n",
       "85857  1.600260e+12      85857 -0.779800 -10.596619   0.045486\n",
       "\n",
       "[85858 rows x 5 columns]"
      ]
     },
     "execution_count": 10,
     "metadata": {},
     "output_type": "execute_result"
    }
   ],
   "source": [
    "df_4 = pd.read_csv(\"E:\\Project\\Human Identity\\Data\\Accelerometer_User_4_85857.csv\")\n",
    "df_4"
   ]
  },
  {
   "cell_type": "code",
   "execution_count": 11,
   "metadata": {},
   "outputs": [],
   "source": [
    "df_4 = df_4.iloc[:N]"
   ]
  },
  {
   "cell_type": "code",
   "execution_count": 12,
   "metadata": {},
   "outputs": [
    {
     "data": {
      "text/html": [
       "<div>\n",
       "<style scoped>\n",
       "    .dataframe tbody tr th:only-of-type {\n",
       "        vertical-align: middle;\n",
       "    }\n",
       "\n",
       "    .dataframe tbody tr th {\n",
       "        vertical-align: top;\n",
       "    }\n",
       "\n",
       "    .dataframe thead th {\n",
       "        text-align: right;\n",
       "    }\n",
       "</style>\n",
       "<table border=\"1\" class=\"dataframe\">\n",
       "  <thead>\n",
       "    <tr style=\"text-align: right;\">\n",
       "      <th></th>\n",
       "      <th>ID</th>\n",
       "      <th>TIMESTAMP</th>\n",
       "      <th>X</th>\n",
       "      <th>Y</th>\n",
       "      <th>Z</th>\n",
       "      <th>Unnamed: 5</th>\n",
       "      <th>Unnamed: 6</th>\n",
       "      <th>Unnamed: 7</th>\n",
       "    </tr>\n",
       "  </thead>\n",
       "  <tbody>\n",
       "    <tr>\n",
       "      <td>0</td>\n",
       "      <td>1.600000e+12</td>\n",
       "      <td>0</td>\n",
       "      <td>-2.240973</td>\n",
       "      <td>10.381259</td>\n",
       "      <td>-2.331953</td>\n",
       "      <td>NaN</td>\n",
       "      <td>NaN</td>\n",
       "      <td>NaN</td>\n",
       "    </tr>\n",
       "    <tr>\n",
       "      <td>1</td>\n",
       "      <td>1.600000e+12</td>\n",
       "      <td>1</td>\n",
       "      <td>2.791639</td>\n",
       "      <td>14.355634</td>\n",
       "      <td>-2.681506</td>\n",
       "      <td>NaN</td>\n",
       "      <td>NaN</td>\n",
       "      <td>NaN</td>\n",
       "    </tr>\n",
       "    <tr>\n",
       "      <td>2</td>\n",
       "      <td>1.600000e+12</td>\n",
       "      <td>2</td>\n",
       "      <td>2.619257</td>\n",
       "      <td>11.396400</td>\n",
       "      <td>-2.877830</td>\n",
       "      <td>NaN</td>\n",
       "      <td>NaN</td>\n",
       "      <td>NaN</td>\n",
       "    </tr>\n",
       "    <tr>\n",
       "      <td>3</td>\n",
       "      <td>1.600000e+12</td>\n",
       "      <td>3</td>\n",
       "      <td>-1.168370</td>\n",
       "      <td>7.671022</td>\n",
       "      <td>-0.718260</td>\n",
       "      <td>NaN</td>\n",
       "      <td>NaN</td>\n",
       "      <td>NaN</td>\n",
       "    </tr>\n",
       "    <tr>\n",
       "      <td>4</td>\n",
       "      <td>1.600000e+12</td>\n",
       "      <td>4</td>\n",
       "      <td>-1.824382</td>\n",
       "      <td>6.143522</td>\n",
       "      <td>0.330400</td>\n",
       "      <td>NaN</td>\n",
       "      <td>NaN</td>\n",
       "      <td>NaN</td>\n",
       "    </tr>\n",
       "    <tr>\n",
       "      <td>...</td>\n",
       "      <td>...</td>\n",
       "      <td>...</td>\n",
       "      <td>...</td>\n",
       "      <td>...</td>\n",
       "      <td>...</td>\n",
       "      <td>...</td>\n",
       "      <td>...</td>\n",
       "      <td>...</td>\n",
       "    </tr>\n",
       "    <tr>\n",
       "      <td>63232</td>\n",
       "      <td>1.600000e+12</td>\n",
       "      <td>35988</td>\n",
       "      <td>1.910573</td>\n",
       "      <td>10.213664</td>\n",
       "      <td>0.320823</td>\n",
       "      <td>NaN</td>\n",
       "      <td>NaN</td>\n",
       "      <td>NaN</td>\n",
       "    </tr>\n",
       "    <tr>\n",
       "      <td>63233</td>\n",
       "      <td>1.600000e+12</td>\n",
       "      <td>35989</td>\n",
       "      <td>0.569820</td>\n",
       "      <td>10.371682</td>\n",
       "      <td>0.799663</td>\n",
       "      <td>NaN</td>\n",
       "      <td>NaN</td>\n",
       "      <td>NaN</td>\n",
       "    </tr>\n",
       "    <tr>\n",
       "      <td>63234</td>\n",
       "      <td>1.600000e+12</td>\n",
       "      <td>35990</td>\n",
       "      <td>0.565032</td>\n",
       "      <td>10.759542</td>\n",
       "      <td>0.349553</td>\n",
       "      <td>NaN</td>\n",
       "      <td>NaN</td>\n",
       "      <td>NaN</td>\n",
       "    </tr>\n",
       "    <tr>\n",
       "      <td>63235</td>\n",
       "      <td>1.600000e+12</td>\n",
       "      <td>35991</td>\n",
       "      <td>1.412579</td>\n",
       "      <td>11.458650</td>\n",
       "      <td>-0.296881</td>\n",
       "      <td>NaN</td>\n",
       "      <td>NaN</td>\n",
       "      <td>NaN</td>\n",
       "    </tr>\n",
       "    <tr>\n",
       "      <td>63236</td>\n",
       "      <td>1.600000e+12</td>\n",
       "      <td>35992</td>\n",
       "      <td>2.628833</td>\n",
       "      <td>9.461885</td>\n",
       "      <td>0.100556</td>\n",
       "      <td>NaN</td>\n",
       "      <td>NaN</td>\n",
       "      <td>NaN</td>\n",
       "    </tr>\n",
       "  </tbody>\n",
       "</table>\n",
       "<p>63237 rows × 8 columns</p>\n",
       "</div>"
      ],
      "text/plain": [
       "                 ID  TIMESTAMP         X          Y         Z  Unnamed: 5  \\\n",
       "0      1.600000e+12          0 -2.240973  10.381259 -2.331953         NaN   \n",
       "1      1.600000e+12          1  2.791639  14.355634 -2.681506         NaN   \n",
       "2      1.600000e+12          2  2.619257  11.396400 -2.877830         NaN   \n",
       "3      1.600000e+12          3 -1.168370   7.671022 -0.718260         NaN   \n",
       "4      1.600000e+12          4 -1.824382   6.143522  0.330400         NaN   \n",
       "...             ...        ...       ...        ...       ...         ...   \n",
       "63232  1.600000e+12      35988  1.910573  10.213664  0.320823         NaN   \n",
       "63233  1.600000e+12      35989  0.569820  10.371682  0.799663         NaN   \n",
       "63234  1.600000e+12      35990  0.565032  10.759542  0.349553         NaN   \n",
       "63235  1.600000e+12      35991  1.412579  11.458650 -0.296881         NaN   \n",
       "63236  1.600000e+12      35992  2.628833   9.461885  0.100556         NaN   \n",
       "\n",
       "       Unnamed: 6  Unnamed: 7  \n",
       "0             NaN         NaN  \n",
       "1             NaN         NaN  \n",
       "2             NaN         NaN  \n",
       "3             NaN         NaN  \n",
       "4             NaN         NaN  \n",
       "...           ...         ...  \n",
       "63232         NaN         NaN  \n",
       "63233         NaN         NaN  \n",
       "63234         NaN         NaN  \n",
       "63235         NaN         NaN  \n",
       "63236         NaN         NaN  \n",
       "\n",
       "[63237 rows x 8 columns]"
      ]
     },
     "execution_count": 12,
     "metadata": {},
     "output_type": "execute_result"
    }
   ],
   "source": [
    "df_5 = pd.read_csv(\"E:\\Project\\Human Identity\\Data\\Accelerometer_User_5_63235.csv\")\n",
    "df_5"
   ]
  },
  {
   "cell_type": "code",
   "execution_count": 13,
   "metadata": {},
   "outputs": [],
   "source": [
    "df_5 = df_5.iloc[:N]"
   ]
  },
  {
   "cell_type": "markdown",
   "metadata": {},
   "source": [
    "# Visualising the data"
   ]
  },
  {
   "cell_type": "code",
   "execution_count": 94,
   "metadata": {},
   "outputs": [
    {
     "data": {
      "image/png": "[encoded data removed]",
      "text/plain": [
       "<Figure size 1080x360 with 1 Axes>"
      ]
     },
     "metadata": {
      "needs_background": "light"
     },
     "output_type": "display_data"
    }
   ],
   "source": [
    "plt.plot(df_1.TIMESTAMP,df_1.X)\n",
    "fig = plt.gcf()\n",
    "fig.set_size_inches(15,5)\n",
    "plt.title(\"User_1\")\n",
    "plt.xlabel(\"Timestep\")\n",
    "plt.ylabel(\"Accelerometer_X\")\n",
    "plt.grid()"
   ]
  },
  {
   "cell_type": "code",
   "execution_count": 95,
   "metadata": {},
   "outputs": [
    {
     "data": {
      "image/png": "[encoded data removed]",
      "text/plain": [
       "<Figure size 1080x360 with 1 Axes>"
      ]
     },
     "metadata": {
      "needs_background": "light"
     },
     "output_type": "display_data"
    }
   ],
   "source": [
    "plt.plot(df_2.TIMESTAMP,df_2.X,c='green')\n",
    "fig = plt.gcf()\n",
    "fig.set_size_inches(15,5)\n",
    "plt.title(\"User_2\")\n",
    "plt.xlabel(\"Timestep\")\n",
    "plt.ylabel(\"Accelerometer_X\")\n",
    "plt.grid()"
   ]
  },
  {
   "cell_type": "code",
   "execution_count": 96,
   "metadata": {},
   "outputs": [
    {
     "data": {
      "image/png": "[encoded data removed]",
      "text/plain": [
       "<Figure size 1080x360 with 1 Axes>"
      ]
     },
     "metadata": {
      "needs_background": "light"
     },
     "output_type": "display_data"
    }
   ],
   "source": [
    "plt.plot(df_3.TIMESTAMP,df_3.X,c='r')\n",
    "fig = plt.gcf()\n",
    "fig.set_size_inches(15,5)\n",
    "plt.title(\"User_3\")\n",
    "plt.xlabel(\"Timestep\")\n",
    "plt.ylabel(\"Accelerometer_X\")\n",
    "plt.grid()"
   ]
  },
  {
   "cell_type": "code",
   "execution_count": 97,
   "metadata": {},
   "outputs": [
    {
     "data": {
      "image/png": "[encoded data removed]",
      "text/plain": [
       "<Figure size 1080x360 with 1 Axes>"
      ]
     },
     "metadata": {
      "needs_background": "light"
     },
     "output_type": "display_data"
    }
   ],
   "source": [
    "plt.plot(df_4.TIMESTAMP,df_4.X,c='y')\n",
    "fig = plt.gcf()\n",
    "fig.set_size_inches(15,5)\n",
    "plt.title(\"User_4\")\n",
    "plt.xlabel(\"Timestep\")\n",
    "plt.ylabel(\"Accelerometer_X\")\n",
    "plt.grid()"
   ]
  },
  {
   "cell_type": "markdown",
   "metadata": {},
   "source": [
    "# Data Preprocessing"
   ]
  },
  {
   "cell_type": "markdown",
   "metadata": {},
   "source": [
    "## Creating Windows "
   ]
  },
  {
   "cell_type": "code",
   "execution_count": 21,
   "metadata": {},
   "outputs": [],
   "source": [
    "# Main Algo for Creating Windows .....#1\n",
    "\n",
    "def create(df,wind_size,hop_size):\n",
    "  #l=((len(df.x)-wind_size)/hop_size)+1\n",
    "  rows, cols = (wind_size, 3) \n",
    "  a = [[0 for i in range(cols)] for j in range(rows)] \n",
    "  array= [0 for i in range(int((len(df.X)-wind_size)/hop_size)+1)]\n",
    "  k = 0\n",
    "  for i in range(0,(len(df.X)-wind_size+1),hop_size):\n",
    "      a=create1(df,i,wind_size)\n",
    "       #array.append(a)\n",
    "      array[k] = a\n",
    "      k+=1\n",
    "  #return pd.DataFrame(array)\n",
    "  return array\n"
   ]
  },
  {
   "cell_type": "code",
   "execution_count": 22,
   "metadata": {},
   "outputs": [],
   "source": [
    "# Main Algo for Creating Windows .....#2\n",
    "\n",
    "def create1(df,x,w):\n",
    "     rows = w \n",
    "     cols = 3\n",
    "     \n",
    "     arr = [[0 for i in range(cols)] for j in range(rows)] \n",
    "     for i in range(0,w,1):\n",
    "        arr[i][0]=df[\"X\"][x+i]\n",
    "        arr[i][1]=df[\"Y\"][x+i]\n",
    "        arr[i][2]=df[\"Z\"][x+i]\n",
    "     return arr"
   ]
  },
  {
   "cell_type": "code",
   "execution_count": 16,
   "metadata": {},
   "outputs": [],
   "source": [
    "data_user_1 = create(df_1,225,10)"
   ]
  },
  {
   "cell_type": "code",
   "execution_count": 17,
   "metadata": {},
   "outputs": [],
   "source": [
    "data_user_2 = create(df_2,225,10)"
   ]
  },
  {
   "cell_type": "code",
   "execution_count": 18,
   "metadata": {},
   "outputs": [],
   "source": [
    "data_user_3 = create(df_3,225,10)"
   ]
  },
  {
   "cell_type": "code",
   "execution_count": 19,
   "metadata": {},
   "outputs": [],
   "source": [
    "data_user_4 = create(df_4,225,10)"
   ]
  },
  {
   "cell_type": "code",
   "execution_count": 20,
   "metadata": {},
   "outputs": [],
   "source": [
    "data_user_5 = create(df_5,225,10)"
   ]
  },
  {
   "cell_type": "code",
   "execution_count": 29,
   "metadata": {},
   "outputs": [],
   "source": [
    "samples=len(data_user_1)"
   ]
  },
  {
   "cell_type": "code",
   "execution_count": null,
   "metadata": {},
   "outputs": [],
   "source": []
  },
  {
   "cell_type": "markdown",
   "metadata": {},
   "source": [
    "## Creating Labels"
   ]
  },
  {
   "cell_type": "code",
   "execution_count": 30,
   "metadata": {},
   "outputs": [],
   "source": [
    "y = []\n",
    "for i in range(samples*no):\n",
    "    if i < samples:\n",
    "        y.append(0)\n",
    "    elif i < samples*2 and i>=samples:\n",
    "        y.append(1)\n",
    "    elif i < samples*3 and i>=samples*2:\n",
    "        y.append(2)\n",
    "    elif i < samples*4 and i>=samples*3:\n",
    "        y.append(3)\n",
    "    else:\n",
    "        y.append(4)\n",
    "y = np.array(y)"
   ]
  },
  {
   "cell_type": "markdown",
   "metadata": {},
   "source": [
    "## Concatenating the arrays"
   ]
  },
  {
   "cell_type": "code",
   "execution_count": 31,
   "metadata": {},
   "outputs": [
    {
     "data": {
      "text/plain": [
       "(2390, 225, 3)"
      ]
     },
     "execution_count": 31,
     "metadata": {},
     "output_type": "execute_result"
    }
   ],
   "source": [
    "X = data_user_1+data_user_2+data_user_3+data_user_4+data_user_5\n",
    "X = np.array(X)\n",
    "X.shape"
   ]
  },
  {
   "cell_type": "markdown",
   "metadata": {},
   "source": [
    "## Splitting into training and testing"
   ]
  },
  {
   "cell_type": "code",
   "execution_count": 32,
   "metadata": {},
   "outputs": [],
   "source": [
    "import sklearn\n",
    "from sklearn.model_selection import train_test_split"
   ]
  },
  {
   "cell_type": "code",
   "execution_count": 33,
   "metadata": {},
   "outputs": [],
   "source": [
    "X_train , X_test , y_train , y_test = train_test_split(X,y,test_size = 0.2,shuffle=True)"
   ]
  },
  {
   "cell_type": "markdown",
   "metadata": {},
   "source": [
    "# The Model"
   ]
  },
  {
   "cell_type": "code",
   "execution_count": 34,
   "metadata": {},
   "outputs": [
    {
     "name": "stderr",
     "output_type": "stream",
     "text": [
      "Using TensorFlow backend.\n"
     ]
    }
   ],
   "source": [
    "from keras.layers import Dense,Conv2D,MaxPooling2D,Dropout"
   ]
  },
  {
   "cell_type": "code",
   "execution_count": 91,
   "metadata": {},
   "outputs": [],
   "source": [
    "clf = tensorflow.keras.Sequential()"
   ]
  },
  {
   "cell_type": "code",
   "execution_count": 92,
   "metadata": {},
   "outputs": [],
   "source": [
    "clf.add(keras.layers.Conv2D(64, (3,3), activation= 'relu', input_shape = (225,3,1), padding='same'))\n",
    "clf.add(keras.layers.Conv2D(32, (3,3), activation= 'relu',padding='same'))\n",
    "clf.add(keras.layers.MaxPool2D(pool_size= (1,1)))\n",
    "clf.add(keras.layers.Dropout(rate= 0.3))\n",
    "\n",
    "clf.add(keras.layers.Conv2D(32, (3,3), activation= 'relu',padding='same'))\n",
    "clf.add(keras.layers.Conv2D(16, (3,3), activation= 'relu',padding='same'))\n",
    "clf.add(keras.layers.MaxPool2D(pool_size= (1,1)))\n",
    "clf.add(keras.layers.Dropout(rate= 0.3))\n",
    "\n",
    "\n",
    "clf.add(keras.layers.Flatten())\n",
    "          \n",
    "clf.add(keras.layers.Dense(128,activation='relu'))\n",
    "clf.add(keras.layers.Dense(32,activation = 'relu'))\n",
    "clf.add(keras.layers.Dense(5,activation='softmax'))"
   ]
  },
  {
   "cell_type": "code",
   "execution_count": 93,
   "metadata": {},
   "outputs": [
    {
     "name": "stdout",
     "output_type": "stream",
     "text": [
      "Model: \"sequential_1\"\n",
      "_________________________________________________________________\n",
      "Layer (type)                 Output Shape              Param #   \n",
      "=================================================================\n",
      "conv2d_4 (Conv2D)            (None, 225, 3, 64)        640       \n",
      "_________________________________________________________________\n",
      "conv2d_5 (Conv2D)            (None, 225, 3, 32)        18464     \n",
      "_________________________________________________________________\n",
      "max_pooling2d_2 (MaxPooling2 (None, 225, 3, 32)        0         \n",
      "_________________________________________________________________\n",
      "dropout_2 (Dropout)          (None, 225, 3, 32)        0         \n",
      "_________________________________________________________________\n",
      "conv2d_6 (Conv2D)            (None, 225, 3, 32)        9248      \n",
      "_________________________________________________________________\n",
      "conv2d_7 (Conv2D)            (None, 225, 3, 16)        4624      \n",
      "_________________________________________________________________\n",
      "max_pooling2d_3 (MaxPooling2 (None, 225, 3, 16)        0         \n",
      "_________________________________________________________________\n",
      "dropout_3 (Dropout)          (None, 225, 3, 16)        0         \n",
      "_________________________________________________________________\n",
      "flatten_1 (Flatten)          (None, 10800)             0         \n",
      "_________________________________________________________________\n",
      "dense_3 (Dense)              (None, 128)               1382528   \n",
      "_________________________________________________________________\n",
      "dense_4 (Dense)              (None, 32)                4128      \n",
      "_________________________________________________________________\n",
      "dense_5 (Dense)              (None, 5)                 165       \n",
      "=================================================================\n",
      "Total params: 1,419,797\n",
      "Trainable params: 1,419,797\n",
      "Non-trainable params: 0\n",
      "_________________________________________________________________\n"
     ]
    }
   ],
   "source": [
    "clf.summary()"
   ]
  },
  {
   "cell_type": "code",
   "execution_count": 94,
   "metadata": {},
   "outputs": [],
   "source": [
    "clf.compile(optimizer='adam',loss='sparse_categorical_crossentropy',metrics=['accuracy'])"
   ]
  },
  {
   "cell_type": "code",
   "execution_count": 39,
   "metadata": {},
   "outputs": [
    {
     "data": {
      "text/plain": [
       "(1912, 225, 3)"
      ]
     },
     "execution_count": 39,
     "metadata": {},
     "output_type": "execute_result"
    }
   ],
   "source": [
    "X_train.shape"
   ]
  },
  {
   "cell_type": "code",
   "execution_count": 40,
   "metadata": {},
   "outputs": [
    {
     "data": {
      "text/plain": [
       "(478, 225, 3)"
      ]
     },
     "execution_count": 40,
     "metadata": {},
     "output_type": "execute_result"
    }
   ],
   "source": [
    "X_test.shape"
   ]
  },
  {
   "cell_type": "code",
   "execution_count": 41,
   "metadata": {},
   "outputs": [],
   "source": [
    "#Reshaping the input\n",
    "X_train = X_train.reshape(X_train.shape[0],225,3,1)\n",
    "X_test = X_test.reshape(X_test.shape[0],225,3,1)"
   ]
  },
  {
   "cell_type": "markdown",
   "metadata": {},
   "source": [
    "# Trying out the model"
   ]
  },
  {
   "cell_type": "code",
   "execution_count": 95,
   "metadata": {},
   "outputs": [
    {
     "name": "stdout",
     "output_type": "stream",
     "text": [
      "Train on 1912 samples, validate on 478 samples\n",
      "Epoch 1/5\n",
      "1912/1912 [==============================] - 5s 3ms/sample - loss: 0.8685 - accuracy: 0.6067 - val_loss: 0.5156 - val_accuracy: 0.7218\n",
      "Epoch 2/5\n",
      "1912/1912 [==============================] - 4s 2ms/sample - loss: 0.1817 - accuracy: 0.9440 - val_loss: 0.1534 - val_accuracy: 0.9665\n",
      "Epoch 3/5\n",
      "1912/1912 [==============================] - 4s 2ms/sample - loss: 0.0825 - accuracy: 0.9806 - val_loss: 0.0719 - val_accuracy: 0.9791\n",
      "Epoch 4/5\n",
      "1912/1912 [==============================] - 4s 2ms/sample - loss: 0.0523 - accuracy: 0.9869 - val_loss: 0.0448 - val_accuracy: 0.9854\n",
      "Epoch 5/5\n",
      "1912/1912 [==============================] - 4s 2ms/sample - loss: 0.0261 - accuracy: 0.9901 - val_loss: 0.0180 - val_accuracy: 0.9958\n"
     ]
    }
   ],
   "source": [
    "history = clf.fit(X_train,y_train,batch_size=128,epochs=5,validation_data=(X_test,y_test))"
   ]
  },
  {
   "cell_type": "markdown",
   "metadata": {},
   "source": [
    "# Visualizing the results"
   ]
  },
  {
   "cell_type": "code",
   "execution_count": 96,
   "metadata": {},
   "outputs": [
    {
     "name": "stdout",
     "output_type": "stream",
     "text": [
      "dict_keys(['loss', 'accuracy', 'val_loss', 'val_accuracy'])\n"
     ]
    },
    {
     "data": {
      "image/png": "[encoded data removed]",
      "text/plain": [
       "<Figure size 1080x360 with 1 Axes>"
      ]
     },
     "metadata": {
      "needs_background": "light"
     },
     "output_type": "display_data"
    },
    {
     "data": {
      "image/png": "[encoded data removed]",
      "text/plain": [
       "<Figure size 1080x360 with 1 Axes>"
      ]
     },
     "metadata": {
      "needs_background": "light"
     },
     "output_type": "display_data"
    }
   ],
   "source": [
    "# list all data in history\n",
    "print(history.history.keys())\n",
    "# summarize history for accuracy\n",
    "plt.plot(history.history['accuracy'])\n",
    "plt.plot(history.history['val_accuracy'])\n",
    "plt.title('model accuracy')\n",
    "plt.ylabel('accuracy')\n",
    "plt.xlabel('epoch')\n",
    "plt.legend(['train', 'test'], loc='upper left')\n",
    "fig = plt.gcf()\n",
    "fig.set_size_inches(15,5)\n",
    "plt.grid()\n",
    "plt.show()\n",
    "# summarize history for loss\n",
    "plt.plot(history.history['loss'])\n",
    "plt.plot(history.history['val_loss'])\n",
    "plt.title('model loss')\n",
    "plt.ylabel('loss')\n",
    "plt.xlabel('epoch')\n",
    "plt.legend(['train', 'test'], loc='upper left')\n",
    "fig = plt.gcf()\n",
    "fig.set_size_inches(15,5)\n",
    "plt.grid()\n",
    "plt.show()"
   ]
  },
  {
   "cell_type": "markdown",
   "metadata": {},
   "source": [
    "# Testing the model with completely diff data"
   ]
  },
  {
   "cell_type": "code",
   "execution_count": 156,
   "metadata": {},
   "outputs": [
    {
     "data": {
      "text/html": [
       "<div>\n",
       "<style scoped>\n",
       "    .dataframe tbody tr th:only-of-type {\n",
       "        vertical-align: middle;\n",
       "    }\n",
       "\n",
       "    .dataframe tbody tr th {\n",
       "        vertical-align: top;\n",
       "    }\n",
       "\n",
       "    .dataframe thead th {\n",
       "        text-align: right;\n",
       "    }\n",
       "</style>\n",
       "<table border=\"1\" class=\"dataframe\">\n",
       "  <thead>\n",
       "    <tr style=\"text-align: right;\">\n",
       "      <th></th>\n",
       "      <th>ID</th>\n",
       "      <th>TIMESTAMP</th>\n",
       "      <th>X</th>\n",
       "      <th>Y</th>\n",
       "      <th>Z</th>\n",
       "    </tr>\n",
       "  </thead>\n",
       "  <tbody>\n",
       "    <tr>\n",
       "      <td>0</td>\n",
       "      <td>1.598620e+12</td>\n",
       "      <td>0</td>\n",
       "      <td>-0.081100</td>\n",
       "      <td>3.939774</td>\n",
       "      <td>8.173904</td>\n",
       "    </tr>\n",
       "    <tr>\n",
       "      <td>1</td>\n",
       "      <td>1.598620e+12</td>\n",
       "      <td>1</td>\n",
       "      <td>0.244324</td>\n",
       "      <td>3.872772</td>\n",
       "      <td>9.477982</td>\n",
       "    </tr>\n",
       "    <tr>\n",
       "      <td>2</td>\n",
       "      <td>1.598620e+12</td>\n",
       "      <td>2</td>\n",
       "      <td>0.430969</td>\n",
       "      <td>3.824921</td>\n",
       "      <td>9.401413</td>\n",
       "    </tr>\n",
       "    <tr>\n",
       "      <td>3</td>\n",
       "      <td>1.598620e+12</td>\n",
       "      <td>3</td>\n",
       "      <td>0.167755</td>\n",
       "      <td>3.925415</td>\n",
       "      <td>8.863037</td>\n",
       "    </tr>\n",
       "    <tr>\n",
       "      <td>4</td>\n",
       "      <td>1.598620e+12</td>\n",
       "      <td>4</td>\n",
       "      <td>0.411819</td>\n",
       "      <td>4.444656</td>\n",
       "      <td>8.685959</td>\n",
       "    </tr>\n",
       "    <tr>\n",
       "      <td>...</td>\n",
       "      <td>...</td>\n",
       "      <td>...</td>\n",
       "      <td>...</td>\n",
       "      <td>...</td>\n",
       "      <td>...</td>\n",
       "    </tr>\n",
       "    <tr>\n",
       "      <td>37118</td>\n",
       "      <td>1.598620e+12</td>\n",
       "      <td>37118</td>\n",
       "      <td>0.789886</td>\n",
       "      <td>-0.178268</td>\n",
       "      <td>9.212387</td>\n",
       "    </tr>\n",
       "    <tr>\n",
       "      <td>37119</td>\n",
       "      <td>1.598620e+12</td>\n",
       "      <td>37119</td>\n",
       "      <td>0.665466</td>\n",
       "      <td>0.132797</td>\n",
       "      <td>9.437317</td>\n",
       "    </tr>\n",
       "    <tr>\n",
       "      <td>37120</td>\n",
       "      <td>1.598620e+12</td>\n",
       "      <td>37120</td>\n",
       "      <td>0.246719</td>\n",
       "      <td>0.678360</td>\n",
       "      <td>10.528442</td>\n",
       "    </tr>\n",
       "    <tr>\n",
       "      <td>37121</td>\n",
       "      <td>1.598620e+12</td>\n",
       "      <td>37121</td>\n",
       "      <td>0.325684</td>\n",
       "      <td>0.568283</td>\n",
       "      <td>10.186264</td>\n",
       "    </tr>\n",
       "    <tr>\n",
       "      <td>37122</td>\n",
       "      <td>1.598620e+12</td>\n",
       "      <td>37122</td>\n",
       "      <td>0.576920</td>\n",
       "      <td>0.474976</td>\n",
       "      <td>9.418167</td>\n",
       "    </tr>\n",
       "  </tbody>\n",
       "</table>\n",
       "<p>37123 rows × 5 columns</p>\n",
       "</div>"
      ],
      "text/plain": [
       "                 ID  TIMESTAMP         X         Y          Z\n",
       "0      1.598620e+12          0 -0.081100  3.939774   8.173904\n",
       "1      1.598620e+12          1  0.244324  3.872772   9.477982\n",
       "2      1.598620e+12          2  0.430969  3.824921   9.401413\n",
       "3      1.598620e+12          3  0.167755  3.925415   8.863037\n",
       "4      1.598620e+12          4  0.411819  4.444656   8.685959\n",
       "...             ...        ...       ...       ...        ...\n",
       "37118  1.598620e+12      37118  0.789886 -0.178268   9.212387\n",
       "37119  1.598620e+12      37119  0.665466  0.132797   9.437317\n",
       "37120  1.598620e+12      37120  0.246719  0.678360  10.528442\n",
       "37121  1.598620e+12      37121  0.325684  0.568283  10.186264\n",
       "37122  1.598620e+12      37122  0.576920  0.474976   9.418167\n",
       "\n",
       "[37123 rows x 5 columns]"
      ]
     },
     "execution_count": 156,
     "metadata": {},
     "output_type": "execute_result"
    }
   ],
   "source": [
    "test_df_1 = pd.read_csv(\"E:\\Project\\Human Identity\\Data\\Accelerometer_User_1_37122.csv\")\n",
    "test_df_1"
   ]
  },
  {
   "cell_type": "code",
   "execution_count": 157,
   "metadata": {},
   "outputs": [],
   "source": [
    "test_df_1 = test_df_1.iloc[:N_test]"
   ]
  },
  {
   "cell_type": "code",
   "execution_count": 158,
   "metadata": {},
   "outputs": [
    {
     "data": {
      "text/html": [
       "<div>\n",
       "<style scoped>\n",
       "    .dataframe tbody tr th:only-of-type {\n",
       "        vertical-align: middle;\n",
       "    }\n",
       "\n",
       "    .dataframe tbody tr th {\n",
       "        vertical-align: top;\n",
       "    }\n",
       "\n",
       "    .dataframe thead th {\n",
       "        text-align: right;\n",
       "    }\n",
       "</style>\n",
       "<table border=\"1\" class=\"dataframe\">\n",
       "  <thead>\n",
       "    <tr style=\"text-align: right;\">\n",
       "      <th></th>\n",
       "      <th>ID</th>\n",
       "      <th>TIMESTAMP</th>\n",
       "      <th>X</th>\n",
       "      <th>Y</th>\n",
       "      <th>Z</th>\n",
       "    </tr>\n",
       "  </thead>\n",
       "  <tbody>\n",
       "    <tr>\n",
       "      <td>0</td>\n",
       "      <td>1.599400e+12</td>\n",
       "      <td>0</td>\n",
       "      <td>-4.261679</td>\n",
       "      <td>4.070143</td>\n",
       "      <td>9.988609</td>\n",
       "    </tr>\n",
       "    <tr>\n",
       "      <td>1</td>\n",
       "      <td>1.599400e+12</td>\n",
       "      <td>1</td>\n",
       "      <td>-4.261679</td>\n",
       "      <td>4.070143</td>\n",
       "      <td>9.988609</td>\n",
       "    </tr>\n",
       "    <tr>\n",
       "      <td>2</td>\n",
       "      <td>1.599400e+12</td>\n",
       "      <td>2</td>\n",
       "      <td>-2.614468</td>\n",
       "      <td>4.314352</td>\n",
       "      <td>10.357317</td>\n",
       "    </tr>\n",
       "    <tr>\n",
       "      <td>3</td>\n",
       "      <td>1.599400e+12</td>\n",
       "      <td>3</td>\n",
       "      <td>-2.614468</td>\n",
       "      <td>4.314352</td>\n",
       "      <td>10.357317</td>\n",
       "    </tr>\n",
       "    <tr>\n",
       "      <td>4</td>\n",
       "      <td>1.599400e+12</td>\n",
       "      <td>4</td>\n",
       "      <td>-2.327164</td>\n",
       "      <td>4.999093</td>\n",
       "      <td>6.311116</td>\n",
       "    </tr>\n",
       "    <tr>\n",
       "      <td>...</td>\n",
       "      <td>...</td>\n",
       "      <td>...</td>\n",
       "      <td>...</td>\n",
       "      <td>...</td>\n",
       "      <td>...</td>\n",
       "    </tr>\n",
       "    <tr>\n",
       "      <td>34805</td>\n",
       "      <td>1.599400e+12</td>\n",
       "      <td>34805</td>\n",
       "      <td>-0.421380</td>\n",
       "      <td>4.797980</td>\n",
       "      <td>8.920795</td>\n",
       "    </tr>\n",
       "    <tr>\n",
       "      <td>34806</td>\n",
       "      <td>1.599400e+12</td>\n",
       "      <td>34806</td>\n",
       "      <td>-0.421380</td>\n",
       "      <td>4.797980</td>\n",
       "      <td>8.920795</td>\n",
       "    </tr>\n",
       "    <tr>\n",
       "      <td>34807</td>\n",
       "      <td>1.599400e+12</td>\n",
       "      <td>34807</td>\n",
       "      <td>-0.478840</td>\n",
       "      <td>4.826711</td>\n",
       "      <td>7.800309</td>\n",
       "    </tr>\n",
       "    <tr>\n",
       "      <td>34808</td>\n",
       "      <td>1.599400e+12</td>\n",
       "      <td>34808</td>\n",
       "      <td>-0.478840</td>\n",
       "      <td>4.826711</td>\n",
       "      <td>7.800309</td>\n",
       "    </tr>\n",
       "    <tr>\n",
       "      <td>34809</td>\n",
       "      <td>1.599400e+12</td>\n",
       "      <td>34809</td>\n",
       "      <td>-0.876278</td>\n",
       "      <td>4.922479</td>\n",
       "      <td>5.602432</td>\n",
       "    </tr>\n",
       "  </tbody>\n",
       "</table>\n",
       "<p>34810 rows × 5 columns</p>\n",
       "</div>"
      ],
      "text/plain": [
       "                 ID  TIMESTAMP         X         Y          Z\n",
       "0      1.599400e+12          0 -4.261679  4.070143   9.988609\n",
       "1      1.599400e+12          1 -4.261679  4.070143   9.988609\n",
       "2      1.599400e+12          2 -2.614468  4.314352  10.357317\n",
       "3      1.599400e+12          3 -2.614468  4.314352  10.357317\n",
       "4      1.599400e+12          4 -2.327164  4.999093   6.311116\n",
       "...             ...        ...       ...       ...        ...\n",
       "34805  1.599400e+12      34805 -0.421380  4.797980   8.920795\n",
       "34806  1.599400e+12      34806 -0.421380  4.797980   8.920795\n",
       "34807  1.599400e+12      34807 -0.478840  4.826711   7.800309\n",
       "34808  1.599400e+12      34808 -0.478840  4.826711   7.800309\n",
       "34809  1.599400e+12      34809 -0.876278  4.922479   5.602432\n",
       "\n",
       "[34810 rows x 5 columns]"
      ]
     },
     "execution_count": 158,
     "metadata": {},
     "output_type": "execute_result"
    }
   ],
   "source": [
    "test_df_2 = pd.read_csv(\"E:\\Project\\Human Identity\\Data\\Accelerometer_User_2_34809.csv\")\n",
    "test_df_2"
   ]
  },
  {
   "cell_type": "code",
   "execution_count": 159,
   "metadata": {},
   "outputs": [],
   "source": [
    "test_df_2 = test_df_2.iloc[:N_test]"
   ]
  },
  {
   "cell_type": "code",
   "execution_count": 160,
   "metadata": {},
   "outputs": [
    {
     "data": {
      "text/html": [
       "<div>\n",
       "<style scoped>\n",
       "    .dataframe tbody tr th:only-of-type {\n",
       "        vertical-align: middle;\n",
       "    }\n",
       "\n",
       "    .dataframe tbody tr th {\n",
       "        vertical-align: top;\n",
       "    }\n",
       "\n",
       "    .dataframe thead th {\n",
       "        text-align: right;\n",
       "    }\n",
       "</style>\n",
       "<table border=\"1\" class=\"dataframe\">\n",
       "  <thead>\n",
       "    <tr style=\"text-align: right;\">\n",
       "      <th></th>\n",
       "      <th>ID</th>\n",
       "      <th>TIMESTAMP</th>\n",
       "      <th>X</th>\n",
       "      <th>Y</th>\n",
       "      <th>Z</th>\n",
       "    </tr>\n",
       "  </thead>\n",
       "  <tbody>\n",
       "    <tr>\n",
       "      <td>0</td>\n",
       "      <td>1.599530e+12</td>\n",
       "      <td>0</td>\n",
       "      <td>-0.837631</td>\n",
       "      <td>3.755676</td>\n",
       "      <td>9.899612</td>\n",
       "    </tr>\n",
       "    <tr>\n",
       "      <td>1</td>\n",
       "      <td>1.599530e+12</td>\n",
       "      <td>1</td>\n",
       "      <td>-0.447601</td>\n",
       "      <td>3.602539</td>\n",
       "      <td>6.968414</td>\n",
       "    </tr>\n",
       "    <tr>\n",
       "      <td>2</td>\n",
       "      <td>1.599530e+12</td>\n",
       "      <td>2</td>\n",
       "      <td>0.002243</td>\n",
       "      <td>3.006714</td>\n",
       "      <td>7.171799</td>\n",
       "    </tr>\n",
       "    <tr>\n",
       "      <td>3</td>\n",
       "      <td>1.599530e+12</td>\n",
       "      <td>3</td>\n",
       "      <td>0.942627</td>\n",
       "      <td>1.956268</td>\n",
       "      <td>9.042984</td>\n",
       "    </tr>\n",
       "    <tr>\n",
       "      <td>4</td>\n",
       "      <td>1.599530e+12</td>\n",
       "      <td>4</td>\n",
       "      <td>1.172333</td>\n",
       "      <td>1.513596</td>\n",
       "      <td>10.497818</td>\n",
       "    </tr>\n",
       "    <tr>\n",
       "      <td>...</td>\n",
       "      <td>...</td>\n",
       "      <td>...</td>\n",
       "      <td>...</td>\n",
       "      <td>...</td>\n",
       "      <td>...</td>\n",
       "    </tr>\n",
       "    <tr>\n",
       "      <td>115710</td>\n",
       "      <td>1.599530e+12</td>\n",
       "      <td>115710</td>\n",
       "      <td>-0.411713</td>\n",
       "      <td>3.327362</td>\n",
       "      <td>10.701218</td>\n",
       "    </tr>\n",
       "    <tr>\n",
       "      <td>115711</td>\n",
       "      <td>1.599530e+12</td>\n",
       "      <td>115711</td>\n",
       "      <td>0.071640</td>\n",
       "      <td>2.848785</td>\n",
       "      <td>10.859146</td>\n",
       "    </tr>\n",
       "    <tr>\n",
       "      <td>115712</td>\n",
       "      <td>1.599530e+12</td>\n",
       "      <td>115712</td>\n",
       "      <td>-0.270538</td>\n",
       "      <td>3.009110</td>\n",
       "      <td>9.815872</td>\n",
       "    </tr>\n",
       "    <tr>\n",
       "      <td>115713</td>\n",
       "      <td>1.599530e+12</td>\n",
       "      <td>115713</td>\n",
       "      <td>-0.375824</td>\n",
       "      <td>3.064148</td>\n",
       "      <td>9.191345</td>\n",
       "    </tr>\n",
       "    <tr>\n",
       "      <td>115714</td>\n",
       "      <td>1.599530e+12</td>\n",
       "      <td>115714</td>\n",
       "      <td>-0.225067</td>\n",
       "      <td>3.104828</td>\n",
       "      <td>9.026245</td>\n",
       "    </tr>\n",
       "  </tbody>\n",
       "</table>\n",
       "<p>115715 rows × 5 columns</p>\n",
       "</div>"
      ],
      "text/plain": [
       "                  ID  TIMESTAMP         X         Y          Z\n",
       "0       1.599530e+12          0 -0.837631  3.755676   9.899612\n",
       "1       1.599530e+12          1 -0.447601  3.602539   6.968414\n",
       "2       1.599530e+12          2  0.002243  3.006714   7.171799\n",
       "3       1.599530e+12          3  0.942627  1.956268   9.042984\n",
       "4       1.599530e+12          4  1.172333  1.513596  10.497818\n",
       "...              ...        ...       ...       ...        ...\n",
       "115710  1.599530e+12     115710 -0.411713  3.327362  10.701218\n",
       "115711  1.599530e+12     115711  0.071640  2.848785  10.859146\n",
       "115712  1.599530e+12     115712 -0.270538  3.009110   9.815872\n",
       "115713  1.599530e+12     115713 -0.375824  3.064148   9.191345\n",
       "115714  1.599530e+12     115714 -0.225067  3.104828   9.026245\n",
       "\n",
       "[115715 rows x 5 columns]"
      ]
     },
     "execution_count": 160,
     "metadata": {},
     "output_type": "execute_result"
    }
   ],
   "source": [
    "test_df_3 = pd.read_csv(\"E:\\Project\\Human Identity\\Data\\Accelerometer_User_3_115714.csv\")\n",
    "test_df_3"
   ]
  },
  {
   "cell_type": "code",
   "execution_count": 161,
   "metadata": {},
   "outputs": [],
   "source": [
    "test_df_3 = test_df_3.iloc[N_test:2*N_test]\n",
    "test_df_3 = test_df_3.reset_index(drop=True)"
   ]
  },
  {
   "cell_type": "code",
   "execution_count": 162,
   "metadata": {},
   "outputs": [
    {
     "data": {
      "text/html": [
       "<div>\n",
       "<style scoped>\n",
       "    .dataframe tbody tr th:only-of-type {\n",
       "        vertical-align: middle;\n",
       "    }\n",
       "\n",
       "    .dataframe tbody tr th {\n",
       "        vertical-align: top;\n",
       "    }\n",
       "\n",
       "    .dataframe thead th {\n",
       "        text-align: right;\n",
       "    }\n",
       "</style>\n",
       "<table border=\"1\" class=\"dataframe\">\n",
       "  <thead>\n",
       "    <tr style=\"text-align: right;\">\n",
       "      <th></th>\n",
       "      <th>ID</th>\n",
       "      <th>TIMESTAMP</th>\n",
       "      <th>X</th>\n",
       "      <th>Y</th>\n",
       "      <th>Z</th>\n",
       "    </tr>\n",
       "  </thead>\n",
       "  <tbody>\n",
       "    <tr>\n",
       "      <td>0</td>\n",
       "      <td>1.600260e+12</td>\n",
       "      <td>0</td>\n",
       "      <td>-1.674713</td>\n",
       "      <td>1.879562</td>\n",
       "      <td>9.676590</td>\n",
       "    </tr>\n",
       "    <tr>\n",
       "      <td>1</td>\n",
       "      <td>1.600260e+12</td>\n",
       "      <td>1</td>\n",
       "      <td>-1.988174</td>\n",
       "      <td>1.965698</td>\n",
       "      <td>9.573700</td>\n",
       "    </tr>\n",
       "    <tr>\n",
       "      <td>2</td>\n",
       "      <td>1.600260e+12</td>\n",
       "      <td>2</td>\n",
       "      <td>-1.595764</td>\n",
       "      <td>1.941772</td>\n",
       "      <td>9.829727</td>\n",
       "    </tr>\n",
       "    <tr>\n",
       "      <td>3</td>\n",
       "      <td>1.600260e+12</td>\n",
       "      <td>3</td>\n",
       "      <td>-1.346909</td>\n",
       "      <td>2.006378</td>\n",
       "      <td>10.126450</td>\n",
       "    </tr>\n",
       "    <tr>\n",
       "      <td>4</td>\n",
       "      <td>1.600260e+12</td>\n",
       "      <td>4</td>\n",
       "      <td>-1.468933</td>\n",
       "      <td>1.972885</td>\n",
       "      <td>9.987656</td>\n",
       "    </tr>\n",
       "    <tr>\n",
       "      <td>...</td>\n",
       "      <td>...</td>\n",
       "      <td>...</td>\n",
       "      <td>...</td>\n",
       "      <td>...</td>\n",
       "      <td>...</td>\n",
       "    </tr>\n",
       "    <tr>\n",
       "      <td>85853</td>\n",
       "      <td>1.600260e+12</td>\n",
       "      <td>85853</td>\n",
       "      <td>-0.507019</td>\n",
       "      <td>-10.766510</td>\n",
       "      <td>0.502518</td>\n",
       "    </tr>\n",
       "    <tr>\n",
       "      <td>85854</td>\n",
       "      <td>1.600260e+12</td>\n",
       "      <td>85854</td>\n",
       "      <td>-0.672134</td>\n",
       "      <td>-10.922043</td>\n",
       "      <td>0.294342</td>\n",
       "    </tr>\n",
       "    <tr>\n",
       "      <td>85855</td>\n",
       "      <td>1.600260e+12</td>\n",
       "      <td>85855</td>\n",
       "      <td>-1.043014</td>\n",
       "      <td>-10.534409</td>\n",
       "      <td>-0.014343</td>\n",
       "    </tr>\n",
       "    <tr>\n",
       "      <td>85856</td>\n",
       "      <td>1.600260e+12</td>\n",
       "      <td>85856</td>\n",
       "      <td>-1.169830</td>\n",
       "      <td>-10.441086</td>\n",
       "      <td>0.179474</td>\n",
       "    </tr>\n",
       "    <tr>\n",
       "      <td>85857</td>\n",
       "      <td>1.600260e+12</td>\n",
       "      <td>85857</td>\n",
       "      <td>-0.779800</td>\n",
       "      <td>-10.596619</td>\n",
       "      <td>0.045486</td>\n",
       "    </tr>\n",
       "  </tbody>\n",
       "</table>\n",
       "<p>85858 rows × 5 columns</p>\n",
       "</div>"
      ],
      "text/plain": [
       "                 ID  TIMESTAMP         X          Y          Z\n",
       "0      1.600260e+12          0 -1.674713   1.879562   9.676590\n",
       "1      1.600260e+12          1 -1.988174   1.965698   9.573700\n",
       "2      1.600260e+12          2 -1.595764   1.941772   9.829727\n",
       "3      1.600260e+12          3 -1.346909   2.006378  10.126450\n",
       "4      1.600260e+12          4 -1.468933   1.972885   9.987656\n",
       "...             ...        ...       ...        ...        ...\n",
       "85853  1.600260e+12      85853 -0.507019 -10.766510   0.502518\n",
       "85854  1.600260e+12      85854 -0.672134 -10.922043   0.294342\n",
       "85855  1.600260e+12      85855 -1.043014 -10.534409  -0.014343\n",
       "85856  1.600260e+12      85856 -1.169830 -10.441086   0.179474\n",
       "85857  1.600260e+12      85857 -0.779800 -10.596619   0.045486\n",
       "\n",
       "[85858 rows x 5 columns]"
      ]
     },
     "execution_count": 162,
     "metadata": {},
     "output_type": "execute_result"
    }
   ],
   "source": [
    "test_df_4 = pd.read_csv(\"E:\\Project\\Human Identity\\Data\\Accelerometer_User_4_85857.csv\")\n",
    "test_df_4"
   ]
  },
  {
   "cell_type": "code",
   "execution_count": 163,
   "metadata": {},
   "outputs": [],
   "source": [
    "test_df_4 = test_df_4.iloc[N_test:2*N_test]\n",
    "test_df_4 = test_df_4.reset_index(drop=True)"
   ]
  },
  {
   "cell_type": "code",
   "execution_count": 164,
   "metadata": {},
   "outputs": [
    {
     "data": {
      "text/html": [
       "<div>\n",
       "<style scoped>\n",
       "    .dataframe tbody tr th:only-of-type {\n",
       "        vertical-align: middle;\n",
       "    }\n",
       "\n",
       "    .dataframe tbody tr th {\n",
       "        vertical-align: top;\n",
       "    }\n",
       "\n",
       "    .dataframe thead th {\n",
       "        text-align: right;\n",
       "    }\n",
       "</style>\n",
       "<table border=\"1\" class=\"dataframe\">\n",
       "  <thead>\n",
       "    <tr style=\"text-align: right;\">\n",
       "      <th></th>\n",
       "      <th>ID</th>\n",
       "      <th>TIMESTAMP</th>\n",
       "      <th>X</th>\n",
       "      <th>Y</th>\n",
       "      <th>Z</th>\n",
       "      <th>Unnamed: 5</th>\n",
       "      <th>Unnamed: 6</th>\n",
       "      <th>Unnamed: 7</th>\n",
       "    </tr>\n",
       "  </thead>\n",
       "  <tbody>\n",
       "    <tr>\n",
       "      <td>0</td>\n",
       "      <td>1.600000e+12</td>\n",
       "      <td>0</td>\n",
       "      <td>-2.240973</td>\n",
       "      <td>10.381259</td>\n",
       "      <td>-2.331953</td>\n",
       "      <td>NaN</td>\n",
       "      <td>NaN</td>\n",
       "      <td>NaN</td>\n",
       "    </tr>\n",
       "    <tr>\n",
       "      <td>1</td>\n",
       "      <td>1.600000e+12</td>\n",
       "      <td>1</td>\n",
       "      <td>2.791639</td>\n",
       "      <td>14.355634</td>\n",
       "      <td>-2.681506</td>\n",
       "      <td>NaN</td>\n",
       "      <td>NaN</td>\n",
       "      <td>NaN</td>\n",
       "    </tr>\n",
       "    <tr>\n",
       "      <td>2</td>\n",
       "      <td>1.600000e+12</td>\n",
       "      <td>2</td>\n",
       "      <td>2.619257</td>\n",
       "      <td>11.396400</td>\n",
       "      <td>-2.877830</td>\n",
       "      <td>NaN</td>\n",
       "      <td>NaN</td>\n",
       "      <td>NaN</td>\n",
       "    </tr>\n",
       "    <tr>\n",
       "      <td>3</td>\n",
       "      <td>1.600000e+12</td>\n",
       "      <td>3</td>\n",
       "      <td>-1.168370</td>\n",
       "      <td>7.671022</td>\n",
       "      <td>-0.718260</td>\n",
       "      <td>NaN</td>\n",
       "      <td>NaN</td>\n",
       "      <td>NaN</td>\n",
       "    </tr>\n",
       "    <tr>\n",
       "      <td>4</td>\n",
       "      <td>1.600000e+12</td>\n",
       "      <td>4</td>\n",
       "      <td>-1.824382</td>\n",
       "      <td>6.143522</td>\n",
       "      <td>0.330400</td>\n",
       "      <td>NaN</td>\n",
       "      <td>NaN</td>\n",
       "      <td>NaN</td>\n",
       "    </tr>\n",
       "    <tr>\n",
       "      <td>...</td>\n",
       "      <td>...</td>\n",
       "      <td>...</td>\n",
       "      <td>...</td>\n",
       "      <td>...</td>\n",
       "      <td>...</td>\n",
       "      <td>...</td>\n",
       "      <td>...</td>\n",
       "      <td>...</td>\n",
       "    </tr>\n",
       "    <tr>\n",
       "      <td>63232</td>\n",
       "      <td>1.600000e+12</td>\n",
       "      <td>35988</td>\n",
       "      <td>1.910573</td>\n",
       "      <td>10.213664</td>\n",
       "      <td>0.320823</td>\n",
       "      <td>NaN</td>\n",
       "      <td>NaN</td>\n",
       "      <td>NaN</td>\n",
       "    </tr>\n",
       "    <tr>\n",
       "      <td>63233</td>\n",
       "      <td>1.600000e+12</td>\n",
       "      <td>35989</td>\n",
       "      <td>0.569820</td>\n",
       "      <td>10.371682</td>\n",
       "      <td>0.799663</td>\n",
       "      <td>NaN</td>\n",
       "      <td>NaN</td>\n",
       "      <td>NaN</td>\n",
       "    </tr>\n",
       "    <tr>\n",
       "      <td>63234</td>\n",
       "      <td>1.600000e+12</td>\n",
       "      <td>35990</td>\n",
       "      <td>0.565032</td>\n",
       "      <td>10.759542</td>\n",
       "      <td>0.349553</td>\n",
       "      <td>NaN</td>\n",
       "      <td>NaN</td>\n",
       "      <td>NaN</td>\n",
       "    </tr>\n",
       "    <tr>\n",
       "      <td>63235</td>\n",
       "      <td>1.600000e+12</td>\n",
       "      <td>35991</td>\n",
       "      <td>1.412579</td>\n",
       "      <td>11.458650</td>\n",
       "      <td>-0.296881</td>\n",
       "      <td>NaN</td>\n",
       "      <td>NaN</td>\n",
       "      <td>NaN</td>\n",
       "    </tr>\n",
       "    <tr>\n",
       "      <td>63236</td>\n",
       "      <td>1.600000e+12</td>\n",
       "      <td>35992</td>\n",
       "      <td>2.628833</td>\n",
       "      <td>9.461885</td>\n",
       "      <td>0.100556</td>\n",
       "      <td>NaN</td>\n",
       "      <td>NaN</td>\n",
       "      <td>NaN</td>\n",
       "    </tr>\n",
       "  </tbody>\n",
       "</table>\n",
       "<p>63237 rows × 8 columns</p>\n",
       "</div>"
      ],
      "text/plain": [
       "                 ID  TIMESTAMP         X          Y         Z  Unnamed: 5  \\\n",
       "0      1.600000e+12          0 -2.240973  10.381259 -2.331953         NaN   \n",
       "1      1.600000e+12          1  2.791639  14.355634 -2.681506         NaN   \n",
       "2      1.600000e+12          2  2.619257  11.396400 -2.877830         NaN   \n",
       "3      1.600000e+12          3 -1.168370   7.671022 -0.718260         NaN   \n",
       "4      1.600000e+12          4 -1.824382   6.143522  0.330400         NaN   \n",
       "...             ...        ...       ...        ...       ...         ...   \n",
       "63232  1.600000e+12      35988  1.910573  10.213664  0.320823         NaN   \n",
       "63233  1.600000e+12      35989  0.569820  10.371682  0.799663         NaN   \n",
       "63234  1.600000e+12      35990  0.565032  10.759542  0.349553         NaN   \n",
       "63235  1.600000e+12      35991  1.412579  11.458650 -0.296881         NaN   \n",
       "63236  1.600000e+12      35992  2.628833   9.461885  0.100556         NaN   \n",
       "\n",
       "       Unnamed: 6  Unnamed: 7  \n",
       "0             NaN         NaN  \n",
       "1             NaN         NaN  \n",
       "2             NaN         NaN  \n",
       "3             NaN         NaN  \n",
       "4             NaN         NaN  \n",
       "...           ...         ...  \n",
       "63232         NaN         NaN  \n",
       "63233         NaN         NaN  \n",
       "63234         NaN         NaN  \n",
       "63235         NaN         NaN  \n",
       "63236         NaN         NaN  \n",
       "\n",
       "[63237 rows x 8 columns]"
      ]
     },
     "execution_count": 164,
     "metadata": {},
     "output_type": "execute_result"
    }
   ],
   "source": [
    "test_df_5 = pd.read_csv(\"E:\\Project\\Human Identity\\Data\\Accelerometer_User_5_63235.csv\")\n",
    "test_df_5"
   ]
  },
  {
   "cell_type": "code",
   "execution_count": 165,
   "metadata": {},
   "outputs": [],
   "source": [
    "test_df_5 = test_df_5.iloc[N_test:2*N_test]\n",
    "test_df_5 = test_df_5.reset_index(drop=True)"
   ]
  },
  {
   "cell_type": "code",
   "execution_count": 166,
   "metadata": {},
   "outputs": [],
   "source": [
    "test_data_user_1 = create(test_df_1,225,10)"
   ]
  },
  {
   "cell_type": "code",
   "execution_count": 167,
   "metadata": {},
   "outputs": [],
   "source": [
    "test_data_user_2 = create(test_df_2,225,10)"
   ]
  },
  {
   "cell_type": "code",
   "execution_count": 168,
   "metadata": {},
   "outputs": [],
   "source": [
    "test_data_user_3 = create(test_df_3,225,10)"
   ]
  },
  {
   "cell_type": "code",
   "execution_count": 169,
   "metadata": {},
   "outputs": [],
   "source": [
    "test_data_user_4 = create(test_df_4,225,10)"
   ]
  },
  {
   "cell_type": "code",
   "execution_count": 170,
   "metadata": {},
   "outputs": [],
   "source": [
    "test_data_user_5 = create(test_df_5,225,10)"
   ]
  },
  {
   "cell_type": "code",
   "execution_count": 171,
   "metadata": {},
   "outputs": [],
   "source": [
    "test_samples=len(test_data_user_1)"
   ]
  },
  {
   "cell_type": "code",
   "execution_count": 172,
   "metadata": {},
   "outputs": [],
   "source": [
    "test_X = test_data_user_1+test_data_user_2+test_data_user_3+test_data_user_4+test_data_user_5\n",
    "test_X = np.array(test_X)\n",
    "test_X = test_X.reshape(test_X.shape[0],225,3,1)"
   ]
  },
  {
   "cell_type": "code",
   "execution_count": 173,
   "metadata": {},
   "outputs": [],
   "source": [
    "test_y = []\n",
    "for i in range(test_samples*no):\n",
    "    if i < samples:\n",
    "        test_y.append(0)\n",
    "    elif i < test_samples*2 and i>=test_samples:\n",
    "        test_y.append(1)\n",
    "    elif i < test_samples*3 and i>=test_samples*2:\n",
    "        test_y.append(2)\n",
    "    elif i < test_samples*4 and i>=test_samples*3:\n",
    "        test_y.append(3)\n",
    "    else:\n",
    "        test_y.append(4)\n",
    "test_y = np.array(test_y)"
   ]
  },
  {
   "cell_type": "code",
   "execution_count": 174,
   "metadata": {},
   "outputs": [],
   "source": [
    "from sklearn.utils import shuffle"
   ]
  },
  {
   "cell_type": "code",
   "execution_count": 175,
   "metadata": {},
   "outputs": [],
   "source": [
    "test_X,test_y=shuffle(test_X,test_y)"
   ]
  },
  {
   "cell_type": "markdown",
   "metadata": {},
   "source": [
    "## The score"
   ]
  },
  {
   "cell_type": "code",
   "execution_count": 176,
   "metadata": {},
   "outputs": [
    {
     "data": {
      "text/plain": [
       "[2.8751993090438583, 0.85615695]"
      ]
     },
     "execution_count": 176,
     "metadata": {},
     "output_type": "execute_result"
    }
   ],
   "source": [
    "clf.evaluate(test_X, test_y, verbose=0)"
   ]
  },
  {
   "cell_type": "code",
   "execution_count": 129,
   "metadata": {},
   "outputs": [],
   "source": [
    "pred_y = clf.predict(test_X)"
   ]
  },
  {
   "cell_type": "code",
   "execution_count": 130,
   "metadata": {},
   "outputs": [],
   "source": [
    "y_pred=[]\n",
    "for i in range(samples*no):\n",
    "     temp=np.array(pred_y[i])    \n",
    "     maximum = np.where(temp==max(temp))\n",
    "     y_pred.append(maximum[0]) "
   ]
  },
  {
   "cell_type": "code",
   "execution_count": 131,
   "metadata": {},
   "outputs": [],
   "source": [
    "from sklearn import metrics"
   ]
  },
  {
   "cell_type": "code",
   "execution_count": 132,
   "metadata": {},
   "outputs": [
    {
     "data": {
      "text/plain": [
       "array([[ 94, 109, 111,  87,  77],\n",
       "       [ 99,  97, 102, 105,  75],\n",
       "       [ 91,  96, 104, 101,  86],\n",
       "       [ 98,  98, 108, 105,  69],\n",
       "       [ 92,  99, 111,  97,  79]], dtype=int64)"
      ]
     },
     "execution_count": 132,
     "metadata": {},
     "output_type": "execute_result"
    }
   ],
   "source": [
    "metrics.confusion_matrix(Y,y_pred)"
   ]
  },
  {
   "cell_type": "code",
   "execution_count": 200,
   "metadata": {},
   "outputs": [
    {
     "data": {
      "text/plain": [
       "(14890, 225, 3, 1)"
      ]
     },
     "execution_count": 200,
     "metadata": {},
     "output_type": "execute_result"
    }
   ],
   "source": [
    "test_X.shape"
   ]
  },
  {
   "cell_type": "code",
   "execution_count": null,
   "metadata": {},
   "outputs": [],
   "source": []
  },
  {
   "cell_type": "code",
   "execution_count": null,
   "metadata": {},
   "outputs": [],
   "source": []
  },
  {
   "cell_type": "code",
   "execution_count": null,
   "metadata": {},
   "outputs": [],
   "source": []
  }
 ],
 "metadata": {
  "kernelspec": {
   "display_name": "Python 3",
   "language": "python",
   "name": "python3"
  },
  "language_info": {
   "codemirror_mode": {
    "name": "ipython",
    "version": 3
   },
   "file_extension": ".py",
   "mimetype": "text/x-python",
   "name": "python",
   "nbconvert_exporter": "python",
   "pygments_lexer": "ipython3",
   "version": "3.7.4"
  }
 },
 "nbformat": 4,
 "nbformat_minor": 2
}
