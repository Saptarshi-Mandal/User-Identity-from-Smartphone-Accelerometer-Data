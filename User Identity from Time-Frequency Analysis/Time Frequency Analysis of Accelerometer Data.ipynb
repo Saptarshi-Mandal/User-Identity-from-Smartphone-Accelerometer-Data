{
 "cells": [
  {
   "cell_type": "code",
   "execution_count": 1,
   "metadata": {},
   "outputs": [],
   "source": [
    "import pandas as pd\n",
    "import numpy as np\n",
    "import matplotlib\n",
    "import matplotlib.pyplot as plt\n",
    "import tensorflow\n",
    "from tensorflow import keras\n",
    "import scipy as sc\n",
    "from scipy import signal"
   ]
  },
  {
   "cell_type": "markdown",
   "metadata": {},
   "source": [
    "# Raw Dataset"
   ]
  },
  {
   "cell_type": "code",
   "execution_count": 2,
   "metadata": {},
   "outputs": [
    {
     "data": {
      "text/html": [
       "<div>\n",
       "<style scoped>\n",
       "    .dataframe tbody tr th:only-of-type {\n",
       "        vertical-align: middle;\n",
       "    }\n",
       "\n",
       "    .dataframe tbody tr th {\n",
       "        vertical-align: top;\n",
       "    }\n",
       "\n",
       "    .dataframe thead th {\n",
       "        text-align: right;\n",
       "    }\n",
       "</style>\n",
       "<table border=\"1\" class=\"dataframe\">\n",
       "  <thead>\n",
       "    <tr style=\"text-align: right;\">\n",
       "      <th></th>\n",
       "      <th>X</th>\n",
       "      <th>Y</th>\n",
       "      <th>Z</th>\n",
       "      <th>Label</th>\n",
       "    </tr>\n",
       "  </thead>\n",
       "  <tbody>\n",
       "    <tr>\n",
       "      <td>0</td>\n",
       "      <td>0.340509</td>\n",
       "      <td>8.308413</td>\n",
       "      <td>4.140585</td>\n",
       "      <td>0</td>\n",
       "    </tr>\n",
       "    <tr>\n",
       "      <td>1</td>\n",
       "      <td>0.381370</td>\n",
       "      <td>8.390134</td>\n",
       "      <td>4.249548</td>\n",
       "      <td>0</td>\n",
       "    </tr>\n",
       "    <tr>\n",
       "      <td>2</td>\n",
       "      <td>0.272407</td>\n",
       "      <td>8.471856</td>\n",
       "      <td>4.018002</td>\n",
       "      <td>0</td>\n",
       "    </tr>\n",
       "    <tr>\n",
       "      <td>3</td>\n",
       "      <td>0.149824</td>\n",
       "      <td>8.430995</td>\n",
       "      <td>4.290409</td>\n",
       "      <td>0</td>\n",
       "    </tr>\n",
       "    <tr>\n",
       "      <td>4</td>\n",
       "      <td>0.272407</td>\n",
       "      <td>8.430995</td>\n",
       "      <td>4.481094</td>\n",
       "      <td>0</td>\n",
       "    </tr>\n",
       "    <tr>\n",
       "      <td>...</td>\n",
       "      <td>...</td>\n",
       "      <td>...</td>\n",
       "      <td>...</td>\n",
       "      <td>...</td>\n",
       "    </tr>\n",
       "    <tr>\n",
       "      <td>149995</td>\n",
       "      <td>-0.762740</td>\n",
       "      <td>5.802268</td>\n",
       "      <td>7.858941</td>\n",
       "      <td>9</td>\n",
       "    </tr>\n",
       "    <tr>\n",
       "      <td>149996</td>\n",
       "      <td>-0.721878</td>\n",
       "      <td>5.815888</td>\n",
       "      <td>7.899802</td>\n",
       "      <td>9</td>\n",
       "    </tr>\n",
       "    <tr>\n",
       "      <td>149997</td>\n",
       "      <td>-0.762740</td>\n",
       "      <td>5.897611</td>\n",
       "      <td>7.736358</td>\n",
       "      <td>9</td>\n",
       "    </tr>\n",
       "    <tr>\n",
       "      <td>149998</td>\n",
       "      <td>-0.830841</td>\n",
       "      <td>5.979332</td>\n",
       "      <td>7.777218</td>\n",
       "      <td>9</td>\n",
       "    </tr>\n",
       "    <tr>\n",
       "      <td>149999</td>\n",
       "      <td>-0.858082</td>\n",
       "      <td>6.033814</td>\n",
       "      <td>7.600154</td>\n",
       "      <td>9</td>\n",
       "    </tr>\n",
       "  </tbody>\n",
       "</table>\n",
       "<p>150000 rows × 4 columns</p>\n",
       "</div>"
      ],
      "text/plain": [
       "               X         Y         Z  Label\n",
       "0       0.340509  8.308413  4.140585      0\n",
       "1       0.381370  8.390134  4.249548      0\n",
       "2       0.272407  8.471856  4.018002      0\n",
       "3       0.149824  8.430995  4.290409      0\n",
       "4       0.272407  8.430995  4.481094      0\n",
       "...          ...       ...       ...    ...\n",
       "149995 -0.762740  5.802268  7.858941      9\n",
       "149996 -0.721878  5.815888  7.899802      9\n",
       "149997 -0.762740  5.897611  7.736358      9\n",
       "149998 -0.830841  5.979332  7.777218      9\n",
       "149999 -0.858082  6.033814  7.600154      9\n",
       "\n",
       "[150000 rows x 4 columns]"
      ]
     },
     "execution_count": 2,
     "metadata": {},
     "output_type": "execute_result"
    }
   ],
   "source": [
    "df = pd.read_csv(r\"E:\\Project\\User Identity from Time-Frequency Analysis\\10 Users Acceleromter Data.csv\")\n",
    "df"
   ]
  },
  {
   "cell_type": "code",
   "execution_count": 3,
   "metadata": {},
   "outputs": [],
   "source": [
    "length = 15000"
   ]
  },
  {
   "cell_type": "code",
   "execution_count": 25,
   "metadata": {},
   "outputs": [
    {
     "name": "stdout",
     "output_type": "stream",
     "text": [
      "--- 2.8249902725219727 seconds ---\n"
     ]
    }
   ],
   "source": [
    "import time\n",
    "start_time = time.time()\n",
    "k=0\n",
    "X=[0 for p in range(N_Users)] # Final Array\n",
    "for i in range(0,length*N_Users,length):\n",
    "    temp=[]\n",
    "    for j in range(length):\n",
    "        x_y_z = [df.iloc[i+j,0],df.iloc[i+j,1],df.iloc[i+j,2]]\n",
    "        temp.append(x_y_z)\n",
    "    X[k]=temp\n",
    "    k+=1 #incrementing [Final Array] indices\n",
    "print(\"--- %s seconds ---\" % (time.time() - start_time))"
   ]
  },
  {
   "cell_type": "code",
   "execution_count": 26,
   "metadata": {},
   "outputs": [
    {
     "data": {
      "text/plain": [
       "(10, 15000, 3)"
      ]
     },
     "execution_count": 26,
     "metadata": {},
     "output_type": "execute_result"
    }
   ],
   "source": [
    "t=np.array(X)\n",
    "t.shape"
   ]
  },
  {
   "cell_type": "code",
   "execution_count": 10,
   "metadata": {},
   "outputs": [
    {
     "ename": "IndexError",
     "evalue": "single positional indexer is out-of-bounds",
     "output_type": "error",
     "traceback": [
      "\u001b[1;31m---------------------------------------------------------------------------\u001b[0m",
      "\u001b[1;31mIndexError\u001b[0m                                Traceback (most recent call last)",
      "\u001b[1;32m<ipython-input-10-bb9295078fb7>\u001b[0m in \u001b[0;36m<module>\u001b[1;34m\u001b[0m\n\u001b[0;32m     14\u001b[0m     \u001b[0mn\u001b[0m\u001b[1;33m=\u001b[0m\u001b[0mm_id\u001b[0m\u001b[1;33m\u001b[0m\u001b[1;33m\u001b[0m\u001b[0m\n\u001b[0;32m     15\u001b[0m     \u001b[1;32mwhile\u001b[0m\u001b[1;33m(\u001b[0m\u001b[0mn\u001b[0m\u001b[1;33m==\u001b[0m\u001b[0mm_id\u001b[0m\u001b[1;33m)\u001b[0m\u001b[1;33m:\u001b[0m     \u001b[1;31m# Loop For inserting all datapoints of same m_id\u001b[0m\u001b[1;33m\u001b[0m\u001b[1;33m\u001b[0m\u001b[0m\n\u001b[1;32m---> 16\u001b[1;33m         \u001b[0mx_y_z\u001b[0m \u001b[1;33m=\u001b[0m \u001b[1;33m[\u001b[0m\u001b[0mdf\u001b[0m\u001b[1;33m.\u001b[0m\u001b[0miloc\u001b[0m\u001b[1;33m[\u001b[0m\u001b[0mi\u001b[0m\u001b[1;33m,\u001b[0m\u001b[1;36m0\u001b[0m\u001b[1;33m]\u001b[0m\u001b[1;33m,\u001b[0m\u001b[0mdf\u001b[0m\u001b[1;33m.\u001b[0m\u001b[0miloc\u001b[0m\u001b[1;33m[\u001b[0m\u001b[0mi\u001b[0m\u001b[1;33m,\u001b[0m\u001b[1;36m1\u001b[0m\u001b[1;33m]\u001b[0m\u001b[1;33m,\u001b[0m\u001b[0mdf\u001b[0m\u001b[1;33m.\u001b[0m\u001b[0miloc\u001b[0m\u001b[1;33m[\u001b[0m\u001b[0mi\u001b[0m\u001b[1;33m,\u001b[0m\u001b[1;36m2\u001b[0m\u001b[1;33m]\u001b[0m\u001b[1;33m]\u001b[0m\u001b[1;33m\u001b[0m\u001b[1;33m\u001b[0m\u001b[0m\n\u001b[0m\u001b[0;32m     17\u001b[0m         \u001b[0mtemp\u001b[0m\u001b[1;33m.\u001b[0m\u001b[0mappend\u001b[0m\u001b[1;33m(\u001b[0m\u001b[0mx_y_z\u001b[0m\u001b[1;33m)\u001b[0m\u001b[1;33m\u001b[0m\u001b[1;33m\u001b[0m\u001b[0m\n\u001b[0;32m     18\u001b[0m         \u001b[0mn\u001b[0m\u001b[1;33m=\u001b[0m\u001b[0mdf\u001b[0m\u001b[1;33m.\u001b[0m\u001b[0miloc\u001b[0m\u001b[1;33m[\u001b[0m\u001b[0mi\u001b[0m\u001b[1;33m,\u001b[0m\u001b[1;36m3\u001b[0m\u001b[1;33m]\u001b[0m\u001b[1;33m\u001b[0m\u001b[1;33m\u001b[0m\u001b[0m\n",
      "\u001b[1;32m~\\Anaconda3\\lib\\site-packages\\pandas\\core\\indexing.py\u001b[0m in \u001b[0;36m__getitem__\u001b[1;34m(self, key)\u001b[0m\n\u001b[0;32m   1416\u001b[0m                 \u001b[1;32mexcept\u001b[0m \u001b[1;33m(\u001b[0m\u001b[0mKeyError\u001b[0m\u001b[1;33m,\u001b[0m \u001b[0mIndexError\u001b[0m\u001b[1;33m,\u001b[0m \u001b[0mAttributeError\u001b[0m\u001b[1;33m)\u001b[0m\u001b[1;33m:\u001b[0m\u001b[1;33m\u001b[0m\u001b[1;33m\u001b[0m\u001b[0m\n\u001b[0;32m   1417\u001b[0m                     \u001b[1;32mpass\u001b[0m\u001b[1;33m\u001b[0m\u001b[1;33m\u001b[0m\u001b[0m\n\u001b[1;32m-> 1418\u001b[1;33m             \u001b[1;32mreturn\u001b[0m \u001b[0mself\u001b[0m\u001b[1;33m.\u001b[0m\u001b[0m_getitem_tuple\u001b[0m\u001b[1;33m(\u001b[0m\u001b[0mkey\u001b[0m\u001b[1;33m)\u001b[0m\u001b[1;33m\u001b[0m\u001b[1;33m\u001b[0m\u001b[0m\n\u001b[0m\u001b[0;32m   1419\u001b[0m         \u001b[1;32melse\u001b[0m\u001b[1;33m:\u001b[0m\u001b[1;33m\u001b[0m\u001b[1;33m\u001b[0m\u001b[0m\n\u001b[0;32m   1420\u001b[0m             \u001b[1;31m# we by definition only have the 0th axis\u001b[0m\u001b[1;33m\u001b[0m\u001b[1;33m\u001b[0m\u001b[1;33m\u001b[0m\u001b[0m\n",
      "\u001b[1;32m~\\Anaconda3\\lib\\site-packages\\pandas\\core\\indexing.py\u001b[0m in \u001b[0;36m_getitem_tuple\u001b[1;34m(self, tup)\u001b[0m\n\u001b[0;32m   2090\u001b[0m     \u001b[1;32mdef\u001b[0m \u001b[0m_getitem_tuple\u001b[0m\u001b[1;33m(\u001b[0m\u001b[0mself\u001b[0m\u001b[1;33m,\u001b[0m \u001b[0mtup\u001b[0m\u001b[1;33m)\u001b[0m\u001b[1;33m:\u001b[0m\u001b[1;33m\u001b[0m\u001b[1;33m\u001b[0m\u001b[0m\n\u001b[0;32m   2091\u001b[0m \u001b[1;33m\u001b[0m\u001b[0m\n\u001b[1;32m-> 2092\u001b[1;33m         \u001b[0mself\u001b[0m\u001b[1;33m.\u001b[0m\u001b[0m_has_valid_tuple\u001b[0m\u001b[1;33m(\u001b[0m\u001b[0mtup\u001b[0m\u001b[1;33m)\u001b[0m\u001b[1;33m\u001b[0m\u001b[1;33m\u001b[0m\u001b[0m\n\u001b[0m\u001b[0;32m   2093\u001b[0m         \u001b[1;32mtry\u001b[0m\u001b[1;33m:\u001b[0m\u001b[1;33m\u001b[0m\u001b[1;33m\u001b[0m\u001b[0m\n\u001b[0;32m   2094\u001b[0m             \u001b[1;32mreturn\u001b[0m \u001b[0mself\u001b[0m\u001b[1;33m.\u001b[0m\u001b[0m_getitem_lowerdim\u001b[0m\u001b[1;33m(\u001b[0m\u001b[0mtup\u001b[0m\u001b[1;33m)\u001b[0m\u001b[1;33m\u001b[0m\u001b[1;33m\u001b[0m\u001b[0m\n",
      "\u001b[1;32m~\\Anaconda3\\lib\\site-packages\\pandas\\core\\indexing.py\u001b[0m in \u001b[0;36m_has_valid_tuple\u001b[1;34m(self, key)\u001b[0m\n\u001b[0;32m    233\u001b[0m                 \u001b[1;32mraise\u001b[0m \u001b[0mIndexingError\u001b[0m\u001b[1;33m(\u001b[0m\u001b[1;34m\"Too many indexers\"\u001b[0m\u001b[1;33m)\u001b[0m\u001b[1;33m\u001b[0m\u001b[1;33m\u001b[0m\u001b[0m\n\u001b[0;32m    234\u001b[0m             \u001b[1;32mtry\u001b[0m\u001b[1;33m:\u001b[0m\u001b[1;33m\u001b[0m\u001b[1;33m\u001b[0m\u001b[0m\n\u001b[1;32m--> 235\u001b[1;33m                 \u001b[0mself\u001b[0m\u001b[1;33m.\u001b[0m\u001b[0m_validate_key\u001b[0m\u001b[1;33m(\u001b[0m\u001b[0mk\u001b[0m\u001b[1;33m,\u001b[0m \u001b[0mi\u001b[0m\u001b[1;33m)\u001b[0m\u001b[1;33m\u001b[0m\u001b[1;33m\u001b[0m\u001b[0m\n\u001b[0m\u001b[0;32m    236\u001b[0m             \u001b[1;32mexcept\u001b[0m \u001b[0mValueError\u001b[0m\u001b[1;33m:\u001b[0m\u001b[1;33m\u001b[0m\u001b[1;33m\u001b[0m\u001b[0m\n\u001b[0;32m    237\u001b[0m                 raise ValueError(\n",
      "\u001b[1;32m~\\Anaconda3\\lib\\site-packages\\pandas\\core\\indexing.py\u001b[0m in \u001b[0;36m_validate_key\u001b[1;34m(self, key, axis)\u001b[0m\n\u001b[0;32m   2012\u001b[0m             \u001b[1;32mreturn\u001b[0m\u001b[1;33m\u001b[0m\u001b[1;33m\u001b[0m\u001b[0m\n\u001b[0;32m   2013\u001b[0m         \u001b[1;32melif\u001b[0m \u001b[0mis_integer\u001b[0m\u001b[1;33m(\u001b[0m\u001b[0mkey\u001b[0m\u001b[1;33m)\u001b[0m\u001b[1;33m:\u001b[0m\u001b[1;33m\u001b[0m\u001b[1;33m\u001b[0m\u001b[0m\n\u001b[1;32m-> 2014\u001b[1;33m             \u001b[0mself\u001b[0m\u001b[1;33m.\u001b[0m\u001b[0m_validate_integer\u001b[0m\u001b[1;33m(\u001b[0m\u001b[0mkey\u001b[0m\u001b[1;33m,\u001b[0m \u001b[0maxis\u001b[0m\u001b[1;33m)\u001b[0m\u001b[1;33m\u001b[0m\u001b[1;33m\u001b[0m\u001b[0m\n\u001b[0m\u001b[0;32m   2015\u001b[0m         \u001b[1;32melif\u001b[0m \u001b[0misinstance\u001b[0m\u001b[1;33m(\u001b[0m\u001b[0mkey\u001b[0m\u001b[1;33m,\u001b[0m \u001b[0mtuple\u001b[0m\u001b[1;33m)\u001b[0m\u001b[1;33m:\u001b[0m\u001b[1;33m\u001b[0m\u001b[1;33m\u001b[0m\u001b[0m\n\u001b[0;32m   2016\u001b[0m             \u001b[1;31m# a tuple should already have been caught by this point\u001b[0m\u001b[1;33m\u001b[0m\u001b[1;33m\u001b[0m\u001b[1;33m\u001b[0m\u001b[0m\n",
      "\u001b[1;32m~\\Anaconda3\\lib\\site-packages\\pandas\\core\\indexing.py\u001b[0m in \u001b[0;36m_validate_integer\u001b[1;34m(self, key, axis)\u001b[0m\n\u001b[0;32m   2086\u001b[0m         \u001b[0mlen_axis\u001b[0m \u001b[1;33m=\u001b[0m \u001b[0mlen\u001b[0m\u001b[1;33m(\u001b[0m\u001b[0mself\u001b[0m\u001b[1;33m.\u001b[0m\u001b[0mobj\u001b[0m\u001b[1;33m.\u001b[0m\u001b[0m_get_axis\u001b[0m\u001b[1;33m(\u001b[0m\u001b[0maxis\u001b[0m\u001b[1;33m)\u001b[0m\u001b[1;33m)\u001b[0m\u001b[1;33m\u001b[0m\u001b[1;33m\u001b[0m\u001b[0m\n\u001b[0;32m   2087\u001b[0m         \u001b[1;32mif\u001b[0m \u001b[0mkey\u001b[0m \u001b[1;33m>=\u001b[0m \u001b[0mlen_axis\u001b[0m \u001b[1;32mor\u001b[0m \u001b[0mkey\u001b[0m \u001b[1;33m<\u001b[0m \u001b[1;33m-\u001b[0m\u001b[0mlen_axis\u001b[0m\u001b[1;33m:\u001b[0m\u001b[1;33m\u001b[0m\u001b[1;33m\u001b[0m\u001b[0m\n\u001b[1;32m-> 2088\u001b[1;33m             \u001b[1;32mraise\u001b[0m \u001b[0mIndexError\u001b[0m\u001b[1;33m(\u001b[0m\u001b[1;34m\"single positional indexer is out-of-bounds\"\u001b[0m\u001b[1;33m)\u001b[0m\u001b[1;33m\u001b[0m\u001b[1;33m\u001b[0m\u001b[0m\n\u001b[0m\u001b[0;32m   2089\u001b[0m \u001b[1;33m\u001b[0m\u001b[0m\n\u001b[0;32m   2090\u001b[0m     \u001b[1;32mdef\u001b[0m \u001b[0m_getitem_tuple\u001b[0m\u001b[1;33m(\u001b[0m\u001b[0mself\u001b[0m\u001b[1;33m,\u001b[0m \u001b[0mtup\u001b[0m\u001b[1;33m)\u001b[0m\u001b[1;33m:\u001b[0m\u001b[1;33m\u001b[0m\u001b[1;33m\u001b[0m\u001b[0m\n",
      "\u001b[1;31mIndexError\u001b[0m: single positional indexer is out-of-bounds"
     ]
    }
   ],
   "source": [
    "import time\n",
    "start_time = time.time()\n",
    "N_Users=10\n",
    "k=0\n",
    "n_list= [p for p in range(N_Users)]           # All m_id in a list\n",
    "X=[0 for j in range(N_Users)] # Final Array\n",
    "for m_id in n_list:\n",
    "    n=n_list[0]\n",
    "    i=0                   # index keeping variable\n",
    "    while(n!=m_id):      # Loop for searching the index of first m_id datapoint\n",
    "        n=df.iloc[i,3]  # Label of i-th index datapoint\n",
    "        i+=1\n",
    "    temp=[]\n",
    "    n=m_id\n",
    "    while(n==m_id):     # Loop For inserting all datapoints of same m_id\n",
    "        x_y_z = [df.iloc[i,0],df.iloc[i,1],df.iloc[i,2]]\n",
    "        temp.append(x_y_z)\n",
    "        n=df.iloc[i,3]\n",
    "        i+=1\n",
    "    X[k]=temp\n",
    "    k+=1 #incrementing [Final Array] indices\n",
    "print(\"--- %s seconds ---\" % (time.time() - start_time))"
   ]
  },
  {
   "cell_type": "code",
   "execution_count": 20,
   "metadata": {},
   "outputs": [],
   "source": [
    "# Main Algo for Creating Windows .....#1\n",
    "\n",
    "def create(df,wind_size,hop_size,m_index):\n",
    "  #l=((len(df.x)-wind_size)/hop_size)+1\n",
    "  rows, cols = (wind_size, 3) \n",
    "#  a = [[0 for i in range(cols)] for j in range(rows)] \n",
    "  array= [0 for i in range(int((length-wind_size)/hop_size)+1)]\n",
    "  k = 0\n",
    "  for i in range(0,(length-wind_size+1),hop_size):\n",
    "      a=create1(df,i,wind_size,m_index)\n",
    "       #array.append(a)\n",
    "      array[k] = a\n",
    "      k+=1\n",
    "  #return pd.DataFrame(array)\n",
    "  return array\n"
   ]
  },
  {
   "cell_type": "code",
   "execution_count": 50,
   "metadata": {},
   "outputs": [],
   "source": [
    "# Main Algo for Creating Windows .....#2\n",
    "\n",
    "def create1(df,x,w,m_index):\n",
    "     rows = w \n",
    "     cols = 3\n",
    "     arr = [[0 for i in range(cols)] for j in range(rows)] \n",
    "     for i in range(0,w,1):\n",
    "        arr[i][0]=df[x+i][0]\n",
    "        arr[i][1]=df[x+i][1]\n",
    "        arr[i][2]=df[x+i][2]\n",
    "     arr = np.array(arr)\n",
    "     f1,t1,x = signal.stft(arr[:,0],5,nperseg=10)\n",
    "     f2,t2,y = signal.stft(arr[:,1],5,nperseg=10)\n",
    "     f3,t3,z = signal.stft(arr[:,2],5,nperseg=10)\n",
    "     temp_a = np.concatenate((abs(np.array(x)),abs(np.array(y)),abs(np.array(z))),axis=0)\n",
    "    # for i in range(0,w,1):\n",
    "       # x = signal.stft(arr[:,0])\n",
    "       # arr[i][3]=np.mean(arr,axis=0)[0]\n",
    "        #arr[i][4]=np.mean(arr,axis=0)[1]\n",
    "        #arr[i][5]=np.mean(arr,axis=0)[2]\n",
    "        #arr[i][6]=np.std(arr,axis=0)[0]\n",
    "        #arr[i][7]=np.std(arr,axis=0)[1]\n",
    "       # arr[i][8]=np.std(arr,axis=0)[2]\n",
    "       # arr[i][9]=abs(sc.fft(arr[:,0]))[i]\n",
    "        #arr[i][10]=abs(sc.fft(arr[:,1]))[i]\n",
    "        #arr[i][11]=abs(sc.fft(arr[:,2]))[i]\n",
    "     return temp_a"
   ]
  },
  {
   "cell_type": "code",
   "execution_count": 51,
   "metadata": {},
   "outputs": [
    {
     "name": "stdout",
     "output_type": "stream",
     "text": [
      "--- 9.475422859191895 seconds ---\n"
     ]
    }
   ],
   "source": [
    "import time\n",
    "start_time = time.time()\n",
    "X_final = [0 for i in range( N_Users)]\n",
    "for m_index in range(N_Users):\n",
    "  X_final[m_index]=create(X[m_index],225,10,m_index)\n",
    "print(\"--- %s seconds ---\" % (time.time() - start_time))"
   ]
  },
  {
   "cell_type": "code",
   "execution_count": 52,
   "metadata": {},
   "outputs": [
    {
     "data": {
      "text/plain": [
       "(1478, 18, 46)"
      ]
     },
     "execution_count": 52,
     "metadata": {},
     "output_type": "execute_result"
    }
   ],
   "source": [
    "t=np.array(X_final[0])\n",
    "t.shape"
   ]
  },
  {
   "cell_type": "code",
   "execution_count": 53,
   "metadata": {},
   "outputs": [],
   "source": [
    "X_input=[]\n",
    "for i in range(N_Users):\n",
    "  temp = X_final[i]\n",
    "  X_input += temp\n",
    "X_input = np.array(X_input)"
   ]
  },
  {
   "cell_type": "code",
   "execution_count": 54,
   "metadata": {},
   "outputs": [],
   "source": [
    "y = [0 for i in range(X_input.shape[0])]\n",
    "for i in range(X_input.shape[0]):\n",
    "  y[i]=int(i*N_Users/X_input.shape[0])\n",
    "y = np.array(y)"
   ]
  },
  {
   "cell_type": "code",
   "execution_count": 55,
   "metadata": {},
   "outputs": [],
   "source": [
    "import sklearn\n",
    "from sklearn.model_selection import train_test_split\n",
    "from sklearn import linear_model\n",
    "from sklearn import tree\n",
    "from sklearn import ensemble\n",
    "from sklearn import svm\n",
    "from sklearn import metrics\n",
    "X_train , X_test , y_train , y_test = train_test_split(X_input,y,test_size = 0.2,shuffle=True)"
   ]
  },
  {
   "cell_type": "code",
   "execution_count": 38,
   "metadata": {},
   "outputs": [],
   "source": [
    "clf_Logistic_Reg = sklearn.linear_model.LogisticRegression()\n",
    "clf_SVM = sklearn.svm.SVC()\n",
    "clf_dt = sklearn.tree.DecisionTreeClassifier()\n",
    "clf_rf = sklearn.ensemble.RandomForestClassifier()\n",
    "clf_knn = sklearn.neighbors.KNeighborsClassifier()"
   ]
  },
  {
   "cell_type": "code",
   "execution_count": 39,
   "metadata": {},
   "outputs": [
    {
     "name": "stderr",
     "output_type": "stream",
     "text": [
      "C:\\Users\\Saptarshi\\Anaconda3\\lib\\site-packages\\sklearn\\linear_model\\logistic.py:432: FutureWarning: Default solver will be changed to 'lbfgs' in 0.22. Specify a solver to silence this warning.\n",
      "  FutureWarning)\n",
      "C:\\Users\\Saptarshi\\Anaconda3\\lib\\site-packages\\sklearn\\linear_model\\logistic.py:469: FutureWarning: Default multi_class will be changed to 'auto' in 0.22. Specify the multi_class option to silence this warning.\n",
      "  \"this warning.\", FutureWarning)\n"
     ]
    },
    {
     "name": "stdout",
     "output_type": "stream",
     "text": [
      "--- 222.37724590301514 seconds ---\n"
     ]
    }
   ],
   "source": [
    "import time\n",
    "start_time = time.time()\n",
    "clf_Logistic_Reg.fit(X_train,y_train)\n",
    "print(\"--- %s seconds ---\" % (time.time() - start_time))"
   ]
  },
  {
   "cell_type": "code",
   "execution_count": 40,
   "metadata": {},
   "outputs": [],
   "source": [
    "y_pred_train_Log = clf_Logistic_Reg.predict(X_train)\n",
    "y_pred_test_Log = clf_Logistic_Reg.predict(X_test)"
   ]
  },
  {
   "cell_type": "code",
   "execution_count": 41,
   "metadata": {},
   "outputs": [
    {
     "name": "stdout",
     "output_type": "stream",
     "text": [
      "Logistic Regression:\n",
      "Accuracy: 0.6251 val_acc: 0.4073\n"
     ]
    }
   ],
   "source": [
    "acc_train = metrics.accuracy_score(y_train,y_pred_train_Log)\n",
    "acc_test = metrics.accuracy_score(y_test,y_pred_test_Log)\n",
    "print('Logistic Regression:')\n",
    "print('Accuracy: %.4f' % acc_train,'val_acc: %.4f' %acc_test)"
   ]
  },
  {
   "cell_type": "code",
   "execution_count": 42,
   "metadata": {},
   "outputs": [
    {
     "name": "stdout",
     "output_type": "stream",
     "text": [
      "Recall: 0.3092 Precision: 0.2983 F-Measure: 0.3036\n"
     ]
    }
   ],
   "source": [
    "recall = metrics.recall_score(y_test, y_pred_test_Log, labels=[1,2], average='micro')\n",
    "precision = metrics.precision_score(y_test, y_pred_test_Log, labels=[1,2], average='micro')\n",
    "f1 = metrics.f1_score(y_test, y_pred_test_Log, labels=[1,2], average='micro')\n",
    "print('Recall: %.4f' % recall,'Precision: %.4f' % precision,'F-Measure: %.4f' % f1)"
   ]
  },
  {
   "cell_type": "code",
   "execution_count": 43,
   "metadata": {},
   "outputs": [
    {
     "name": "stderr",
     "output_type": "stream",
     "text": [
      "C:\\Users\\Saptarshi\\Anaconda3\\lib\\site-packages\\sklearn\\ensemble\\forest.py:245: FutureWarning: The default value of n_estimators will change from 10 in version 0.20 to 100 in 0.22.\n",
      "  \"10 in version 0.20 to 100 in 0.22.\", FutureWarning)\n"
     ]
    },
    {
     "name": "stdout",
     "output_type": "stream",
     "text": [
      "--- 2.512234687805176 seconds ---\n"
     ]
    }
   ],
   "source": [
    "start_time = time.time()\n",
    "clf_rf.fit(X_train,y_train)\n",
    "print(\"--- %s seconds ---\" % (time.time() - start_time))"
   ]
  },
  {
   "cell_type": "code",
   "execution_count": 44,
   "metadata": {},
   "outputs": [],
   "source": [
    "y_pred_train_rf = clf_rf.predict(X_train)\n",
    "y_pred_test_rf = clf_rf.predict(X_test)"
   ]
  },
  {
   "cell_type": "code",
   "execution_count": 45,
   "metadata": {},
   "outputs": [
    {
     "name": "stdout",
     "output_type": "stream",
     "text": [
      "Random Forest:\n",
      "Accuracy: 0.9967 val_acc: 0.6357\n"
     ]
    }
   ],
   "source": [
    "acc_train = metrics.accuracy_score(y_train,y_pred_train_rf)\n",
    "acc_test = metrics.accuracy_score(y_test,y_pred_test_rf)\n",
    "print('Random Forest:')\n",
    "print('Accuracy: %.4f' % acc_train,'val_acc: %.4f' %acc_test)"
   ]
  },
  {
   "cell_type": "code",
   "execution_count": 46,
   "metadata": {},
   "outputs": [
    {
     "name": "stdout",
     "output_type": "stream",
     "text": [
      "Recall: 0.6408 Precision: 0.4914 F-Measure: 0.5562\n"
     ]
    }
   ],
   "source": [
    "recall = metrics.recall_score(y_test, y_pred_test_rf, labels=[1,2], average='micro')\n",
    "precision = metrics.precision_score(y_test,y_pred_test_rf, labels=[1,2], average='micro')\n",
    "f1 = metrics.f1_score(y_test, y_pred_test_rf, labels=[1,2], average='micro')\n",
    "print('Recall: %.4f' % recall,'Precision: %.4f' % precision,'F-Measure: %.4f' % f1)"
   ]
  },
  {
   "cell_type": "code",
   "execution_count": 47,
   "metadata": {},
   "outputs": [
    {
     "name": "stderr",
     "output_type": "stream",
     "text": [
      "Using TensorFlow backend.\n"
     ]
    }
   ],
   "source": [
    "from keras.layers import Dense,Conv2D,MaxPooling2D,Dropout"
   ]
  },
  {
   "cell_type": "code",
   "execution_count": 56,
   "metadata": {},
   "outputs": [],
   "source": [
    "clf = tensorflow.keras.Sequential()"
   ]
  },
  {
   "cell_type": "code",
   "execution_count": 57,
   "metadata": {},
   "outputs": [],
   "source": [
    "clf.add(keras.layers.Conv2D(64, (3,3), activation= 'relu', input_shape = (X_input.shape[1],X_input.shape[2],1), padding='same'))\n",
    "clf.add(keras.layers.Conv2D(32, (3,3), activation= 'relu',padding='same'))\n",
    "clf.add(keras.layers.MaxPool2D(pool_size= (1,1)))\n",
    "clf.add(keras.layers.Dropout(rate= 0.5))\n",
    "\n",
    "clf.add(keras.layers.Conv2D(64, (3,3), activation= 'relu',padding='same'))\n",
    "clf.add(keras.layers.Conv2D(32, (3,3), activation= 'relu',padding='same'))\n",
    "clf.add(keras.layers.MaxPool2D(pool_size= (1,1)))\n",
    "clf.add(keras.layers.Dropout(rate= 0.5))\n",
    "\n",
    "\n",
    "clf.add(keras.layers.Flatten())\n",
    "          \n",
    "clf.add(keras.layers.Dense(128,activation='relu'))\n",
    "clf.add(keras.layers.Dense(32,activation = 'relu'))\n",
    "clf.add(keras.layers.Dense(N_Users,activation='softmax'))"
   ]
  },
  {
   "cell_type": "code",
   "execution_count": 58,
   "metadata": {},
   "outputs": [
    {
     "name": "stdout",
     "output_type": "stream",
     "text": [
      "Model: \"sequential_1\"\n",
      "_________________________________________________________________\n",
      "Layer (type)                 Output Shape              Param #   \n",
      "=================================================================\n",
      "conv2d (Conv2D)              (None, 18, 46, 64)        640       \n",
      "_________________________________________________________________\n",
      "conv2d_1 (Conv2D)            (None, 18, 46, 32)        18464     \n",
      "_________________________________________________________________\n",
      "max_pooling2d (MaxPooling2D) (None, 18, 46, 32)        0         \n",
      "_________________________________________________________________\n",
      "dropout (Dropout)            (None, 18, 46, 32)        0         \n",
      "_________________________________________________________________\n",
      "conv2d_2 (Conv2D)            (None, 18, 46, 64)        18496     \n",
      "_________________________________________________________________\n",
      "conv2d_3 (Conv2D)            (None, 18, 46, 32)        18464     \n",
      "_________________________________________________________________\n",
      "max_pooling2d_1 (MaxPooling2 (None, 18, 46, 32)        0         \n",
      "_________________________________________________________________\n",
      "dropout_1 (Dropout)          (None, 18, 46, 32)        0         \n",
      "_________________________________________________________________\n",
      "flatten (Flatten)            (None, 26496)             0         \n",
      "_________________________________________________________________\n",
      "dense (Dense)                (None, 128)               3391616   \n",
      "_________________________________________________________________\n",
      "dense_1 (Dense)              (None, 32)                4128      \n",
      "_________________________________________________________________\n",
      "dense_2 (Dense)              (None, 10)                330       \n",
      "=================================================================\n",
      "Total params: 3,452,138\n",
      "Trainable params: 3,452,138\n",
      "Non-trainable params: 0\n",
      "_________________________________________________________________\n"
     ]
    }
   ],
   "source": [
    "clf.summary()"
   ]
  },
  {
   "cell_type": "code",
   "execution_count": 59,
   "metadata": {},
   "outputs": [],
   "source": [
    "clf.compile(optimizer='adam',loss='sparse_categorical_crossentropy',metrics=['accuracy'])"
   ]
  },
  {
   "cell_type": "code",
   "execution_count": 60,
   "metadata": {},
   "outputs": [],
   "source": [
    "#Reshaping the input\n",
    "X_train = X_train.reshape(X_train.shape[0],X_train.shape[1],X_train.shape[2],1)\n",
    "X_test = X_test.reshape(X_test.shape[0],X_test.shape[1],X_test.shape[2],1)"
   ]
  },
  {
   "cell_type": "code",
   "execution_count": 61,
   "metadata": {},
   "outputs": [
    {
     "name": "stdout",
     "output_type": "stream",
     "text": [
      "Train on 11824 samples, validate on 2956 samples\n",
      "Epoch 1/50\n",
      "11824/11824 [==============================] - 48s 4ms/sample - loss: 1.9397 - accuracy: 0.2847 - val_loss: 1.6890 - val_accuracy: 0.4002\n",
      "Epoch 2/50\n",
      "11824/11824 [==============================] - 45s 4ms/sample - loss: 1.5356 - accuracy: 0.4345 - val_loss: 1.3730 - val_accuracy: 0.5074\n",
      "Epoch 3/50\n",
      "11824/11824 [==============================] - 47s 4ms/sample - loss: 1.2703 - accuracy: 0.5507 - val_loss: 1.1385 - val_accuracy: 0.6184\n",
      "Epoch 4/50\n",
      "11824/11824 [==============================] - 46s 4ms/sample - loss: 1.0686 - accuracy: 0.6204 - val_loss: 0.9980 - val_accuracy: 0.6478\n",
      "Epoch 5/50\n",
      "11824/11824 [==============================] - 44s 4ms/sample - loss: 0.8748 - accuracy: 0.6897 - val_loss: 0.9408 - val_accuracy: 0.6813\n",
      "Epoch 6/50\n",
      "11824/11824 [==============================] - 48s 4ms/sample - loss: 0.7215 - accuracy: 0.7426 - val_loss: 0.6850 - val_accuracy: 0.7629\n",
      "Epoch 7/50\n",
      "11824/11824 [==============================] - 46s 4ms/sample - loss: 0.6127 - accuracy: 0.7827 - val_loss: 0.6285 - val_accuracy: 0.7730\n",
      "Epoch 8/50\n",
      "11824/11824 [==============================] - 46s 4ms/sample - loss: 0.4961 - accuracy: 0.8256 - val_loss: 0.6884 - val_accuracy: 0.7649\n",
      "Epoch 9/50\n",
      "11824/11824 [==============================] - 47s 4ms/sample - loss: 0.4186 - accuracy: 0.8521 - val_loss: 0.4345 - val_accuracy: 0.8555\n",
      "Epoch 10/50\n",
      "11824/11824 [==============================] - 46s 4ms/sample - loss: 0.3800 - accuracy: 0.8635 - val_loss: 0.4157 - val_accuracy: 0.8610\n",
      "Epoch 11/50\n",
      "11824/11824 [==============================] - 46s 4ms/sample - loss: 0.3320 - accuracy: 0.8835 - val_loss: 0.5544 - val_accuracy: 0.8092\n",
      "Epoch 12/50\n",
      "11824/11824 [==============================] - 46s 4ms/sample - loss: 0.2821 - accuracy: 0.9027 - val_loss: 0.4844 - val_accuracy: 0.8319\n",
      "Epoch 13/50\n",
      "11824/11824 [==============================] - 46s 4ms/sample - loss: 0.2534 - accuracy: 0.9122 - val_loss: 0.4050 - val_accuracy: 0.8643\n",
      "Epoch 14/50\n",
      "11824/11824 [==============================] - 47s 4ms/sample - loss: 0.2238 - accuracy: 0.9193 - val_loss: 0.3945 - val_accuracy: 0.8637\n",
      "Epoch 15/50\n",
      "11824/11824 [==============================] - 45s 4ms/sample - loss: 0.1923 - accuracy: 0.9317 - val_loss: 0.3574 - val_accuracy: 0.8786\n",
      "Epoch 16/50\n",
      "11824/11824 [==============================] - 46s 4ms/sample - loss: 0.1595 - accuracy: 0.9438 - val_loss: 0.3565 - val_accuracy: 0.8836\n",
      "Epoch 17/50\n",
      "11824/11824 [==============================] - 47s 4ms/sample - loss: 0.1628 - accuracy: 0.9444 - val_loss: 0.2814 - val_accuracy: 0.9046\n",
      "Epoch 18/50\n",
      "11824/11824 [==============================] - 45s 4ms/sample - loss: 0.1332 - accuracy: 0.9551 - val_loss: 0.1819 - val_accuracy: 0.9364\n",
      "Epoch 19/50\n",
      "11824/11824 [==============================] - 46s 4ms/sample - loss: 0.1532 - accuracy: 0.9472 - val_loss: 0.2138 - val_accuracy: 0.9242\n",
      "Epoch 20/50\n",
      "11824/11824 [==============================] - 44s 4ms/sample - loss: 0.1151 - accuracy: 0.9603 - val_loss: 0.2068 - val_accuracy: 0.9286\n",
      "Epoch 21/50\n",
      "11824/11824 [==============================] - 47s 4ms/sample - loss: 0.1037 - accuracy: 0.9623 - val_loss: 0.2324 - val_accuracy: 0.9181\n",
      "Epoch 22/50\n",
      "11824/11824 [==============================] - 47s 4ms/sample - loss: 0.0942 - accuracy: 0.9686 - val_loss: 0.2637 - val_accuracy: 0.9175\n",
      "Epoch 23/50\n",
      "11824/11824 [==============================] - 46s 4ms/sample - loss: 0.1088 - accuracy: 0.9622 - val_loss: 0.2073 - val_accuracy: 0.9327\n",
      "Epoch 24/50\n",
      "11824/11824 [==============================] - 46s 4ms/sample - loss: 0.0870 - accuracy: 0.9690 - val_loss: 0.4024 - val_accuracy: 0.8792\n",
      "Epoch 25/50\n",
      "11824/11824 [==============================] - 45s 4ms/sample - loss: 0.1110 - accuracy: 0.9604 - val_loss: 0.2071 - val_accuracy: 0.9337\n",
      "Epoch 26/50\n",
      "11824/11824 [==============================] - 45s 4ms/sample - loss: 0.0868 - accuracy: 0.9705 - val_loss: 0.1782 - val_accuracy: 0.9428\n",
      "Epoch 27/50\n",
      "11824/11824 [==============================] - 46s 4ms/sample - loss: 0.0715 - accuracy: 0.9745 - val_loss: 0.2348 - val_accuracy: 0.9344\n",
      "Epoch 28/50\n",
      "11824/11824 [==============================] - 46s 4ms/sample - loss: 0.0690 - accuracy: 0.9766 - val_loss: 0.3053 - val_accuracy: 0.9093\n",
      "Epoch 29/50\n",
      "11824/11824 [==============================] - 45s 4ms/sample - loss: 0.0690 - accuracy: 0.9770 - val_loss: 0.2820 - val_accuracy: 0.9158\n",
      "Epoch 30/50\n",
      "11824/11824 [==============================] - 45s 4ms/sample - loss: 0.0864 - accuracy: 0.9734 - val_loss: 0.2497 - val_accuracy: 0.9276\n",
      "Epoch 31/50\n",
      "11824/11824 [==============================] - 46s 4ms/sample - loss: 0.0670 - accuracy: 0.9780 - val_loss: 0.1825 - val_accuracy: 0.9452\n",
      "Epoch 32/50\n",
      "11824/11824 [==============================] - 46s 4ms/sample - loss: 0.0556 - accuracy: 0.9825 - val_loss: 0.1491 - val_accuracy: 0.9537\n",
      "Epoch 33/50\n",
      "11824/11824 [==============================] - 45s 4ms/sample - loss: 0.0581 - accuracy: 0.9809 - val_loss: 0.2675 - val_accuracy: 0.9168\n",
      "Epoch 34/50\n",
      "11824/11824 [==============================] - 45s 4ms/sample - loss: 0.0535 - accuracy: 0.9823 - val_loss: 0.1811 - val_accuracy: 0.9462\n",
      "Epoch 35/50\n",
      "11824/11824 [==============================] - 46s 4ms/sample - loss: 0.0461 - accuracy: 0.9867 - val_loss: 0.2443 - val_accuracy: 0.9266\n",
      "Epoch 36/50\n",
      "11824/11824 [==============================] - 47s 4ms/sample - loss: 0.0465 - accuracy: 0.9838 - val_loss: 0.2198 - val_accuracy: 0.9388\n",
      "Epoch 37/50\n",
      "11824/11824 [==============================] - 44s 4ms/sample - loss: 0.0473 - accuracy: 0.9834 - val_loss: 0.1995 - val_accuracy: 0.9394\n",
      "Epoch 38/50\n",
      "11824/11824 [==============================] - 47s 4ms/sample - loss: 0.0865 - accuracy: 0.9729 - val_loss: 0.1897 - val_accuracy: 0.9435\n",
      "Epoch 39/50\n",
      "11824/11824 [==============================] - 47s 4ms/sample - loss: 0.0476 - accuracy: 0.9851 - val_loss: 0.3086 - val_accuracy: 0.9232\n",
      "Epoch 40/50\n",
      "11824/11824 [==============================] - 48s 4ms/sample - loss: 0.0508 - accuracy: 0.9836 - val_loss: 0.1569 - val_accuracy: 0.9513\n",
      "Epoch 41/50\n",
      "11824/11824 [==============================] - 49s 4ms/sample - loss: 0.0424 - accuracy: 0.9855 - val_loss: 0.2245 - val_accuracy: 0.9388\n",
      "Epoch 42/50\n",
      "11824/11824 [==============================] - 57s 5ms/sample - loss: 0.0588 - accuracy: 0.9809 - val_loss: 0.1884 - val_accuracy: 0.9479\n",
      "Epoch 43/50\n",
      "11824/11824 [==============================] - 63s 5ms/sample - loss: 0.0685 - accuracy: 0.9781 - val_loss: 0.2660 - val_accuracy: 0.9239\n",
      "Epoch 44/50\n",
      "11824/11824 [==============================] - 52s 4ms/sample - loss: 0.0504 - accuracy: 0.9829 - val_loss: 0.1546 - val_accuracy: 0.9553\n",
      "Epoch 45/50\n",
      "11824/11824 [==============================] - 47s 4ms/sample - loss: 0.0473 - accuracy: 0.9853 - val_loss: 0.2466 - val_accuracy: 0.9361\n",
      "Epoch 46/50\n",
      "11824/11824 [==============================] - 49s 4ms/sample - loss: 0.0415 - accuracy: 0.9871 - val_loss: 0.2061 - val_accuracy: 0.9465\n",
      "Epoch 47/50\n",
      "11824/11824 [==============================] - 49s 4ms/sample - loss: 0.0399 - accuracy: 0.9862 - val_loss: 0.2097 - val_accuracy: 0.9442\n",
      "Epoch 48/50\n",
      "11824/11824 [==============================] - 46s 4ms/sample - loss: 0.0358 - accuracy: 0.9884 - val_loss: 0.2028 - val_accuracy: 0.9405\n",
      "Epoch 49/50\n",
      "11824/11824 [==============================] - 48s 4ms/sample - loss: 0.0396 - accuracy: 0.9876 - val_loss: 0.2192 - val_accuracy: 0.9432\n",
      "Epoch 50/50\n",
      "11824/11824 [==============================] - 47s 4ms/sample - loss: 0.0406 - accuracy: 0.9874 - val_loss: 0.2305 - val_accuracy: 0.9374\n"
     ]
    }
   ],
   "source": [
    "history = clf.fit(X_train,y_train,batch_size=128,epochs=50,validation_data=(X_test,y_test))"
   ]
  },
  {
   "cell_type": "code",
   "execution_count": 62,
   "metadata": {},
   "outputs": [
    {
     "name": "stdout",
     "output_type": "stream",
     "text": [
      "dict_keys(['loss', 'accuracy', 'val_loss', 'val_accuracy'])\n"
     ]
    },
    {
     "data": {
      "image/png": "[encoded data removed]",
      "text/plain": [
       "<Figure size 1080x360 with 1 Axes>"
      ]
     },
     "metadata": {
      "needs_background": "light"
     },
     "output_type": "display_data"
    },
    {
     "data": {
      "image/png": "[encoded data removed]",
      "text/plain": [
       "<Figure size 1080x360 with 1 Axes>"
      ]
     },
     "metadata": {
      "needs_background": "light"
     },
     "output_type": "display_data"
    }
   ],
   "source": [
    "# list all data in history\n",
    "print(history.history.keys())\n",
    "# summarize history for accuracy\n",
    "plt.plot(history.history['accuracy'])\n",
    "plt.plot(history.history['val_accuracy'])\n",
    "plt.title('model accuracy')\n",
    "plt.ylabel('accuracy')\n",
    "plt.xlabel('epoch')\n",
    "plt.legend(['train', 'test'], loc='upper left')\n",
    "fig = plt.gcf()\n",
    "fig.set_size_inches(15,5)\n",
    "plt.grid()\n",
    "plt.show()\n",
    "# summarize history for loss\n",
    "plt.plot(history.history['loss'])\n",
    "plt.plot(history.history['val_loss'])\n",
    "plt.title('model loss')\n",
    "plt.ylabel('loss')\n",
    "plt.xlabel('epoch')\n",
    "plt.legend(['train', 'test'], loc='upper left')\n",
    "fig = plt.gcf()\n",
    "fig.set_size_inches(15,5)\n",
    "plt.grid()\n",
    "plt.show()"
   ]
  },
  {
   "cell_type": "code",
   "execution_count": 64,
   "metadata": {},
   "outputs": [],
   "source": [
    "from sklearn import metrics\n",
    "pred_y = clf.predict(X_test)"
   ]
  },
  {
   "cell_type": "code",
   "execution_count": 65,
   "metadata": {},
   "outputs": [],
   "source": [
    "y_pred=[]\n",
    "for i in range(y_test.shape[0]):\n",
    "     temp=np.array(pred_y[i])    \n",
    "     maximum = np.where(temp==max(temp))\n",
    "     y_pred.append(maximum[0]) "
   ]
  },
  {
   "cell_type": "code",
   "execution_count": 66,
   "metadata": {},
   "outputs": [
    {
     "name": "stdout",
     "output_type": "stream",
     "text": [
      "Recall: 0.9488 Precision: 0.8944 F-Measure: 0.9208\n"
     ]
    }
   ],
   "source": [
    "recall = metrics.recall_score(y_test, y_pred, labels=[1,2], average='micro')\n",
    "precision = metrics.precision_score(y_test, y_pred, labels=[1,2], average='micro')\n",
    "f1 = metrics.f1_score(y_test, y_pred, labels=[1,2], average='micro')\n",
    "print('Recall: %.4f' % recall,'Precision: %.4f' % precision,'F-Measure: %.4f' % f1)"
   ]
  },
  {
   "cell_type": "code",
   "execution_count": 67,
   "metadata": {},
   "outputs": [
    {
     "data": {
      "text/html": [
       "<div>\n",
       "<style scoped>\n",
       "    .dataframe tbody tr th:only-of-type {\n",
       "        vertical-align: middle;\n",
       "    }\n",
       "\n",
       "    .dataframe tbody tr th {\n",
       "        vertical-align: top;\n",
       "    }\n",
       "\n",
       "    .dataframe thead th {\n",
       "        text-align: right;\n",
       "    }\n",
       "</style>\n",
       "<table border=\"1\" class=\"dataframe\">\n",
       "  <thead>\n",
       "    <tr style=\"text-align: right;\">\n",
       "      <th></th>\n",
       "      <th>loss</th>\n",
       "      <th>accuracy</th>\n",
       "      <th>val_loss</th>\n",
       "      <th>val_accuracy</th>\n",
       "    </tr>\n",
       "  </thead>\n",
       "  <tbody>\n",
       "    <tr>\n",
       "      <td>0</td>\n",
       "      <td>1.939709</td>\n",
       "      <td>0.284675</td>\n",
       "      <td>1.688964</td>\n",
       "      <td>0.400203</td>\n",
       "    </tr>\n",
       "    <tr>\n",
       "      <td>1</td>\n",
       "      <td>1.535623</td>\n",
       "      <td>0.434540</td>\n",
       "      <td>1.373000</td>\n",
       "      <td>0.507442</td>\n",
       "    </tr>\n",
       "    <tr>\n",
       "      <td>2</td>\n",
       "      <td>1.270301</td>\n",
       "      <td>0.550660</td>\n",
       "      <td>1.138489</td>\n",
       "      <td>0.618403</td>\n",
       "    </tr>\n",
       "    <tr>\n",
       "      <td>3</td>\n",
       "      <td>1.068598</td>\n",
       "      <td>0.620433</td>\n",
       "      <td>0.997957</td>\n",
       "      <td>0.647835</td>\n",
       "    </tr>\n",
       "    <tr>\n",
       "      <td>4</td>\n",
       "      <td>0.874820</td>\n",
       "      <td>0.689699</td>\n",
       "      <td>0.940771</td>\n",
       "      <td>0.681326</td>\n",
       "    </tr>\n",
       "  </tbody>\n",
       "</table>\n",
       "</div>"
      ],
      "text/plain": [
       "       loss  accuracy  val_loss  val_accuracy\n",
       "0  1.939709  0.284675  1.688964      0.400203\n",
       "1  1.535623  0.434540  1.373000      0.507442\n",
       "2  1.270301  0.550660  1.138489      0.618403\n",
       "3  1.068598  0.620433  0.997957      0.647835\n",
       "4  0.874820  0.689699  0.940771      0.681326"
      ]
     },
     "execution_count": 67,
     "metadata": {},
     "output_type": "execute_result"
    }
   ],
   "source": [
    "metrics_df=pd.DataFrame(history.history)\n",
    "metrics_df.head()"
   ]
  },
  {
   "cell_type": "code",
   "execution_count": 68,
   "metadata": {},
   "outputs": [],
   "source": [
    "loss = pd.DataFrame(metrics_df.iloc[:,0].values,columns=[str(N_Users)])\n",
    "accuracy = pd.DataFrame(metrics_df.iloc[:,1].values,columns=[str(N_Users)])\n",
    "val_loss = pd.DataFrame(metrics_df.iloc[:,2].values,columns=[str(N_Users)])\n",
    "val_accuracy = pd.DataFrame(metrics_df.iloc[:,3].values,columns=[str(N_Users)])"
   ]
  },
  {
   "cell_type": "code",
   "execution_count": 70,
   "metadata": {},
   "outputs": [
    {
     "data": {
      "text/plain": [
       "array([[267,   1,   0,   0,   0,   0,   0,   0,   0,   0],\n",
       "       [  0, 306,   1,   0,   0,   0,   1,   0,   0,   4],\n",
       "       [  0,   4, 287,   0,   0,   1,   1,   0,  17,   3],\n",
       "       [  7,   6,   3, 261,   0,   1,   1,   0,  11,   3],\n",
       "       [  0,   9,   5,   3, 278,   1,   3,   2,   0,   2],\n",
       "       [  0,   3,   2,   0,   0, 324,   0,   2,   2,   5],\n",
       "       [  0,   5,   3,   0,   0,   0, 251,   1,   6,   3],\n",
       "       [  6,   4,   9,   2,   1,   3,   1, 253,   4,   8],\n",
       "       [  0,   1,   4,   0,   0,   0,   2,   0, 276,   2],\n",
       "       [  2,   9,   1,   0,   0,   1,   2,   1,   0, 268]], dtype=int64)"
      ]
     },
     "execution_count": 70,
     "metadata": {},
     "output_type": "execute_result"
    }
   ],
   "source": [
    "cf_matrix=metrics.confusion_matrix(y_test,y_pred)\n",
    "cf_matrix"
   ]
  },
  {
   "cell_type": "code",
   "execution_count": 71,
   "metadata": {},
   "outputs": [],
   "source": [
    "cf_mat = pd.DataFrame(cf_matrix)\n",
    "cf_mat\n",
    "cf_mat.to_csv(r\"E:\\Project\\User Identity from Time-Frequency Analysis\\Project Report\\Results\\Confusion Matrix\\cf_mat_10.csv\")"
   ]
  },
  {
   "cell_type": "code",
   "execution_count": 72,
   "metadata": {},
   "outputs": [],
   "source": [
    "loss.to_csv(r\"E:\\Project\\User Identity from Time-Frequency Analysis\\Project Report\\Results\\Loss\\loss_10.csv\")\n",
    "accuracy.to_csv(r\"E:\\Project\\User Identity from Time-Frequency Analysis\\Project Report\\Results\\Accuracy\\accuracy_10.csv\")\n",
    "val_loss.to_csv(r\"E:\\Project\\User Identity from Time-Frequency Analysis\\Project Report\\Results\\Val_Loss\\val_loss_10.csv\")\n",
    "val_accuracy.to_csv(r\"E:\\Project\\User Identity from Time-Frequency Analysis\\Project Report\\Results\\Val_Accuracy\\val_accuracy_10.csv\")"
   ]
  },
  {
   "cell_type": "code",
   "execution_count": 48,
   "metadata": {},
   "outputs": [],
   "source": [
    "def calcSTFT_norm(inputSignal, samplingFreq, window='hann', nperseg=256, figsize=(9,5), cmap='magma', ylim_max=None):\n",
    "\n",
    "    ##Calculating STFT\n",
    "    f, t, Zxx = signal.stft(inputSignal, samplingFreq, window=window, nperseg=nperseg)\n",
    "    ##Plotting STFT\n",
    "    fig = plt.figure(figsize=figsize)\n",
    "    ### Different methods can be chosen for normalization: PowerNorm; LogNorm; SymLogNorm.\n",
    "    ### Reference: https://matplotlib.org/tutorials/colors/colormapnorms.html\n",
    "    spec = plt.pcolormesh(t, f, np.abs(Zxx), \n",
    "                          norm=matplotlib.colors.PowerNorm(gamma=1./8.),\n",
    "                          #norm=colors.LogNorm(vmin=np.abs(Zxx).min(), vmax=np.abs(Zxx).max()),\n",
    "                          #norm=colors.SymLogNorm(linthresh=0.13, linscale=1,\n",
    "                          #                       vmin=-1.0, vmax=1.0),\n",
    "                          cmap=plt.get_cmap(cmap))\n",
    "    cbar = plt.colorbar(spec)\n",
    "    ##Plot adjustments\n",
    "    plt.title('STFT Spectrogram')\n",
    "    ax = fig.axes[0]\n",
    "    ax.grid(True)\n",
    "    ax.set_title('STFT Magnitude')\n",
    "    if ylim_max:\n",
    "        ax.set_ylim(0,ylim_max)\n",
    "    ax.set_ylabel('Frequency [Hz]')\n",
    "    ax.set_xlabel('Time [sec]')\n",
    "    fig.show\n",
    "    return"
   ]
  },
  {
   "cell_type": "code",
   "execution_count": null,
   "metadata": {},
   "outputs": [],
   "source": []
  },
  {
   "cell_type": "code",
   "execution_count": null,
   "metadata": {},
   "outputs": [],
   "source": []
  },
  {
   "cell_type": "code",
   "execution_count": null,
   "metadata": {},
   "outputs": [],
   "source": []
  },
  {
   "cell_type": "code",
   "execution_count": 49,
   "metadata": {},
   "outputs": [
    {
     "data": {
      "image/png": "[encoded data removed]",
      "text/plain": [
       "<Figure size 648x360 with 2 Axes>"
      ]
     },
     "metadata": {
      "needs_background": "light"
     },
     "output_type": "display_data"
    }
   ],
   "source": [
    "y = calcSTFT_norm(x,5,nperseg=10)"
   ]
  },
  {
   "cell_type": "code",
   "execution_count": 40,
   "metadata": {},
   "outputs": [],
   "source": [
    "f,t,Zxx = signal.stft(x,5,nperseg=10)"
   ]
  },
  {
   "cell_type": "code",
   "execution_count": 43,
   "metadata": {},
   "outputs": [
    {
     "data": {
      "text/plain": [
       "(6, 46)"
      ]
     },
     "execution_count": 43,
     "metadata": {},
     "output_type": "execute_result"
    }
   ],
   "source": [
    "abs(Zxx).shape"
   ]
  },
  {
   "cell_type": "code",
   "execution_count": 45,
   "metadata": {},
   "outputs": [
    {
     "data": {
      "text/plain": [
       "(0.18830579161680117+0j)"
      ]
     },
     "execution_count": 45,
     "metadata": {},
     "output_type": "execute_result"
    }
   ],
   "source": [
    "Zxx[0,0]"
   ]
  },
  {
   "cell_type": "code",
   "execution_count": null,
   "metadata": {},
   "outputs": [],
   "source": []
  }
 ],
 "metadata": {
  "kernelspec": {
   "display_name": "Python 3",
   "language": "python",
   "name": "python3"
  },
  "language_info": {
   "codemirror_mode": {
    "name": "ipython",
    "version": 3
   },
   "file_extension": ".py",
   "mimetype": "text/x-python",
   "name": "python",
   "nbconvert_exporter": "python",
   "pygments_lexer": "ipython3",
   "version": "3.7.4"
  }
 },
 "nbformat": 4,
 "nbformat_minor": 2
}
